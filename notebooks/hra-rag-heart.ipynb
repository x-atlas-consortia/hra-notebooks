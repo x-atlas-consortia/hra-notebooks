{
 "cells": [
  {
   "cell_type": "markdown",
   "metadata": {},
   "source": [
    "# Using LLMs and RAG with HRA KG\n",
    "\n",
    "This notebook shows how to setup a basic vector database populated from the HRA KG which is then used to augment prompts to an LLM."
   ]
  },
  {
   "cell_type": "markdown",
   "metadata": {},
   "source": [
    "# Variables to tweak\n",
    "\n",
    "Below are some variables you can tweak to customize this notebook"
   ]
  },
  {
   "cell_type": "code",
   "execution_count": 1,
   "metadata": {},
   "outputs": [],
   "source": [
    "# Model to use for embedding in the vector db\n",
    "SENTENCE_TRANSFORMER=\"all-mpnet-base-v2\"\n",
    "\n",
    "# LLM model variables\n",
    "LLM_MODEL=\"phi4:14b\" # \"llama3.2:3b\" \"phi4:14b\"\n",
    "SHOW_DEBUG_INFO=True\n",
    "DEFAULT_SYSTEM_PROMPT=\"Answer in one sentence in an informal tone.\"\n",
    "\n",
    "# Variables for getting RAG content to index from HRA KG\n",
    "SPARQL_ENDPOINT=\"https://lod.humanatlas.io/sparql\"\n",
    "CONTENT_QUERY_FILE='hra-rag-kidney-content.rq'\n",
    "CONTENT_QUERY_REPLACEMENT_KEYWORD='http://purl.obolibrary.org/obo/UBERON_0002113'\n",
    "\n",
    "# Updating the term below will change which term/organ to use\n",
    "CONTENT_QUERY_REPLACEMENT_VALUE='http://purl.obolibrary.org/obo/UBERON_0000948' # Heart\n",
    "\n",
    "# Set to True to skip installing prerequisites\n",
    "SKIP_INSTALL=False"
   ]
  },
  {
   "cell_type": "markdown",
   "metadata": {},
   "source": [
    "## Install pre-requisites\n",
    "\n",
    "For this notebook, we require `ollama` to be installed (<https://ollama.com/download>) and running locally (though this could be reconfigured to work with other services) and a few python packages."
   ]
  },
  {
   "cell_type": "code",
   "execution_count": 2,
   "metadata": {},
   "outputs": [],
   "source": [
    "if not SKIP_INSTALL:\n",
    "    %pip install llm requests\n",
    "    !llm install llm-ollama llm-sentence-transformers\n",
    "    !llm sentence-transformers register {SENTENCE_TRANSFORMER}\n",
    "    !ollama pull {LLM_MODEL}"
   ]
  },
  {
   "cell_type": "markdown",
   "metadata": {},
   "source": [
    "## Populate the Vector DB from HRA KG"
   ]
  },
  {
   "cell_type": "code",
   "execution_count": 3,
   "metadata": {},
   "outputs": [],
   "source": [
    "# Reusable functions\n",
    "\n",
    "import requests\n",
    "import csv\n",
    "from io import StringIO\n",
    "\n",
    "def sparql_select(query, endpoint=SPARQL_ENDPOINT):\n",
    "    content = requests.post(endpoint, {\"query\": query}, headers={\"Accept\": \"text/csv\"}).text\n",
    "    with StringIO(content) as csvText:\n",
    "        content = list(csv.DictReader(csvText))\n",
    "    return content"
   ]
  },
  {
   "cell_type": "code",
   "execution_count": 4,
   "metadata": {},
   "outputs": [
    {
     "name": "stdout",
     "output_type": "stream",
     "text": [
      "58 terms\n"
     ]
    },
    {
     "data": {
      "text/plain": [
       "[{'term': 'http://purl.obolibrary.org/obo/UBERON_0001625',\n",
       "  'name': 'right coronary artery',\n",
       "  'aka': '',\n",
       "  'description': 'Coronary artery which runs along the right side of the heart and predominantly supplies the mycocardium of the right side of the heart[Wikipedia,modified].'},\n",
       " {'term': 'http://purl.obolibrary.org/obo/UBERON_0001626',\n",
       "  'name': 'left coronary artery',\n",
       "  'aka': '',\n",
       "  'description': 'Coronary artery which runs along the left side of the heart and predominantly supplies the mycocardium of the left side of the heart[Wikipedia,modified].'},\n",
       " {'term': 'http://purl.obolibrary.org/obo/CL_0002350',\n",
       "  'name': 'endocardial cell',\n",
       "  'aka': '',\n",
       "  'description': 'An endothelial cell that lines the intracavitary lumen of the heart, separating the circulating blood from the underlying myocardium. This cell type releases a number of vasoactive substances including prostacyclin, nitrous oxide and endothelin.'}]"
      ]
     },
     "execution_count": 4,
     "metadata": {},
     "output_type": "execute_result"
    }
   ],
   "source": [
    "# Run SPARQL query in hra-rag-content.rq to get the text content to use in the vector DB\n",
    "\n",
    "query = open(CONTENT_QUERY_FILE, encoding='utf8').read()\n",
    "query = query.replace(CONTENT_QUERY_REPLACEMENT_KEYWORD, CONTENT_QUERY_REPLACEMENT_VALUE) # Replace the used in the default query\n",
    "results = sparql_select(query)\n",
    "print(len(results), \"terms\")\n",
    "results[:3]"
   ]
  },
  {
   "cell_type": "code",
   "execution_count": 5,
   "metadata": {},
   "outputs": [],
   "source": [
    "# Initialize collection to store HRA KG entries\n",
    "\n",
    "import llm\n",
    "\n",
    "embedding_model = llm.get_embedding_model(f\"sentence-transformers/{SENTENCE_TRANSFORMER}\")\n",
    "collection = llm.Collection(\"entries\", model=embedding_model)\n",
    "collection_entries = [ (meta['term'], f\"{meta['term']} \\\"{meta['name']}\\\"{(' also known as ' + meta['aka']) if meta['aka'] else ''} is {meta['description']}\", meta) for meta in results ] \n",
    "collection.embed_multi_with_metadata(collection_entries, store=True)"
   ]
  },
  {
   "cell_type": "code",
   "execution_count": 6,
   "metadata": {},
   "outputs": [
    {
     "name": "stdout",
     "output_type": "stream",
     "text": [
      "http://purl.obolibrary.org/obo/UBERON_0000948 0.5083076561469902 http://purl.obolibrary.org/obo/UBERON_0000948 \"heart\" also known as chambered heart; vertebrate heart is A myogenic muscular circulatory organ found in the vertebrate cardiovascular system composed of chambers of cardiac muscle. It is the primary circulatory organ. {'term': 'http://purl.obolibrary.org/obo/UBERON_0000948', 'name': 'heart', 'aka': 'chambered heart; vertebrate heart', 'description': 'A myogenic muscular circulatory organ found in the vertebrate cardiovascular system composed of chambers of cardiac muscle. It is the primary circulatory organ.'}\n",
      "http://purl.obolibrary.org/obo/UBERON_0002082 0.44384851512132223 http://purl.obolibrary.org/obo/UBERON_0002082 \"cardiac ventricle\" also known as heart ventricle; lower chamber of heart; ventricle of heart is Cardiac chamber through which blood leaves the heart. {'term': 'http://purl.obolibrary.org/obo/UBERON_0002082', 'name': 'cardiac ventricle', 'aka': 'heart ventricle; lower chamber of heart; ventricle of heart', 'description': 'Cardiac chamber through which blood leaves the heart.'}\n",
      "http://purl.obolibrary.org/obo/UBERON_0002081 0.42642753240915654 http://purl.obolibrary.org/obo/UBERON_0002081 \"cardiac atrium\" also known as atria; atrium; atrium of heart; cardiac atria; heart atrium is Cardiac chamber in which blood enters the heart. {'term': 'http://purl.obolibrary.org/obo/UBERON_0002081', 'name': 'cardiac atrium', 'aka': 'atria; atrium; atrium of heart; cardiac atria; heart atrium', 'description': 'Cardiac chamber in which blood enters the heart.'}\n",
      "http://purl.obolibrary.org/obo/UBERON_0004151 0.4260959295791657 http://purl.obolibrary.org/obo/UBERON_0004151 \"cardiac chamber\" also known as chamber of heart; heart chamber is A cardiac chamber surrounds an enclosed cavity within the heart. {'term': 'http://purl.obolibrary.org/obo/UBERON_0004151', 'name': 'cardiac chamber', 'aka': 'chamber of heart; heart chamber', 'description': 'A cardiac chamber surrounds an enclosed cavity within the heart.'}\n",
      "http://purl.obolibrary.org/obo/UBERON_0000946 0.4229058852702545 http://purl.obolibrary.org/obo/UBERON_0000946 \"cardiac valve\" also known as heart valve; valve of heart is A membranous fold of the heart that prevents reflux of fluid. {'term': 'http://purl.obolibrary.org/obo/UBERON_0000946', 'name': 'cardiac valve', 'aka': 'heart valve; valve of heart', 'description': 'A membranous fold of the heart that prevents reflux of fluid.'}\n",
      "http://purl.obolibrary.org/obo/UBERON_0002078 0.4193632711824449 http://purl.obolibrary.org/obo/UBERON_0002078 \"right cardiac atrium\" also known as cardiac right atrium; heart right atrium; right atrium; right atrium of heart; right cardiac atrium is A cardiac atrium that is in the right side of the heart. It receives deoxygenated blood. In mammals, this comes from the superior and inferior vena cava and the coronary sinus, and pumps it into the right ventricle through the tricuspid valve. {'term': 'http://purl.obolibrary.org/obo/UBERON_0002078', 'name': 'right cardiac atrium', 'aka': 'cardiac right atrium; heart right atrium; right atrium; right atrium of heart; right cardiac atrium', 'description': 'A cardiac atrium that is in the right side of the heart. It receives deoxygenated blood. In mammals, this comes from the superior and inferior vena cava and the coronary sinus, and pumps it into the right ventricle through the tricuspid valve.'}\n",
      "http://purl.obolibrary.org/obo/UBERON_0002080 0.4152139403057176 http://purl.obolibrary.org/obo/UBERON_0002080 \"heart right ventricle\" also known as cardiac right ventricle; right ventricle; right ventricle of heart is A cardiac ventricle that is in the right side of the heart. {'term': 'http://purl.obolibrary.org/obo/UBERON_0002080', 'name': 'heart right ventricle', 'aka': 'cardiac right ventricle; right ventricle; right ventricle of heart', 'description': 'A cardiac ventricle that is in the right side of the heart.'}\n",
      "http://purl.obolibrary.org/obo/UBERON_0002084 0.4127689025167679 http://purl.obolibrary.org/obo/UBERON_0002084 \"heart left ventricle\" also known as cardiac left ventricle; left cardiac ventricle; left ventricle; left ventricle of heart is A cardiac ventricle that is in the left side of the heart. {'term': 'http://purl.obolibrary.org/obo/UBERON_0002084', 'name': 'heart left ventricle', 'aka': 'cardiac left ventricle; left cardiac ventricle; left ventricle; left ventricle of heart', 'description': 'A cardiac ventricle that is in the left side of the heart.'}\n",
      "http://purl.obolibrary.org/obo/UBERON_0002079 0.40979396928519624 http://purl.obolibrary.org/obo/UBERON_0002079 \"left cardiac atrium\" also known as cardiac left atrium; heart left atrium; left atrium; left atrium of heart; left cardiac atrium; atrium sinistrum is A cardiac atrium that is in the left side of the heart. It receives oxygenated blood from the pulmonary veins, In mammals this is pumped into the left ventricle, via the Mitral valve. {'term': 'http://purl.obolibrary.org/obo/UBERON_0002079', 'name': 'left cardiac atrium', 'aka': 'cardiac left atrium; heart left atrium; left atrium; left atrium of heart; left cardiac atrium; atrium sinistrum', 'description': 'A cardiac atrium that is in the left side of the heart. It receives oxygenated blood from the pulmonary veins, In mammals this is pumped into the left ventricle, via the Mitral valve.'}\n",
      "http://purl.obolibrary.org/obo/UBERON_0005438 0.40216389878262804 http://purl.obolibrary.org/obo/UBERON_0005438 \"coronary sinus\" also known as sinus coronarius is The short trunk that recieves most of the cardiac veins carrying the blood from the myocardium and delivers it to the right atrium, with the sinoatrial connection occurring between the inferior vena cava and the atrioventricular orifice. {'term': 'http://purl.obolibrary.org/obo/UBERON_0005438', 'name': 'coronary sinus', 'aka': 'sinus coronarius', 'description': 'The short trunk that recieves most of the cardiac veins carrying the blood from the myocardium and delivers it to the right atrium, with the sinoatrial connection occurring between the inferior vena cava and the atrioventricular orifice.'}\n"
     ]
    }
   ],
   "source": [
    "# Test similarity search\n",
    "\n",
    "for entry in collection.similar(\"heart\", number=10):\n",
    "    print(entry.id, entry.score, entry.content, entry.metadata)"
   ]
  },
  {
   "cell_type": "markdown",
   "metadata": {},
   "source": [
    "## Setup LLM"
   ]
  },
  {
   "cell_type": "code",
   "execution_count": 7,
   "metadata": {},
   "outputs": [],
   "source": [
    "# Initialize LLM for prompting\n",
    "\n",
    "import llm\n",
    "model = llm.get_model(LLM_MODEL)"
   ]
  },
  {
   "cell_type": "code",
   "execution_count": 8,
   "metadata": {},
   "outputs": [
    {
     "name": "stdout",
     "output_type": "stream",
     "text": [
      "The Human Reference Atlas is like a big map that shows where all the different parts and cells are inside your body, so scientists know what each part does!\n"
     ]
    }
   ],
   "source": [
    "# Test prompt\n",
    "\n",
    "response = model.prompt(\"What is the Human Reference Atlas (HRA)?\", system=\"Answer in one sentence like a five year old.\")\n",
    "print(response.text())"
   ]
  },
  {
   "cell_type": "markdown",
   "metadata": {},
   "source": [
    "## Setup RAG Prompt"
   ]
  },
  {
   "cell_type": "code",
   "execution_count": 9,
   "metadata": {},
   "outputs": [],
   "source": [
    "from IPython.display import Markdown\n",
    "\n",
    "def rag_prompt(prompt, system = DEFAULT_SYSTEM_PROMPT, debug = SHOW_DEBUG_INFO):\n",
    "    terms = [ f\"* {entry.content}\\n\" for entry in collection.similar(prompt, number=10) ]\n",
    "    if len(terms) > 0:\n",
    "        system = f\"{system}\\nContext:\\n{''.join(terms)}\"\n",
    "    response = model.prompt(prompt, system=system, stream = False)\n",
    "    if debug:\n",
    "        print(\"Prompt:\", prompt)\n",
    "        print(\"System Prompt:\", system)\n",
    "        print(\"Usage:\", response.usage())\n",
    "        # print(\"\\nResponse:\\n\")\n",
    "        # print(response.text())\n",
    "        display(Markdown(\"\\n**Response:**\\n\\n\" + response.text()))\n",
    "    return response\n"
   ]
  },
  {
   "cell_type": "markdown",
   "metadata": {},
   "source": [
    "## Prompts\n",
    "\n",
    "### Prompt: How many chambers are in the heart?"
   ]
  },
  {
   "cell_type": "code",
   "execution_count": 10,
   "metadata": {},
   "outputs": [
    {
     "name": "stdout",
     "output_type": "stream",
     "text": [
      "Prompt: How many chambers are in the heart?\n",
      "System Prompt: Answer in one sentence in an informal tone.\n",
      "Context:\n",
      "* http://purl.obolibrary.org/obo/UBERON_0000948 \"heart\" also known as chambered heart; vertebrate heart is A myogenic muscular circulatory organ found in the vertebrate cardiovascular system composed of chambers of cardiac muscle. It is the primary circulatory organ.\n",
      "* http://purl.obolibrary.org/obo/UBERON_0004151 \"cardiac chamber\" also known as chamber of heart; heart chamber is A cardiac chamber surrounds an enclosed cavity within the heart.\n",
      "* http://purl.obolibrary.org/obo/UBERON_0035554 \"right cardiac chamber\" is Any chamber of the right side of the heart.\n",
      "* http://purl.obolibrary.org/obo/UBERON_0035553 \"left cardiac chamber\" is Any chamber of the left side of the heart.\n",
      "* http://purl.obolibrary.org/obo/UBERON_0002082 \"cardiac ventricle\" also known as heart ventricle; lower chamber of heart; ventricle of heart is Cardiac chamber through which blood leaves the heart.\n",
      "* http://purl.obolibrary.org/obo/UBERON_0000946 \"cardiac valve\" also known as heart valve; valve of heart is A membranous fold of the heart that prevents reflux of fluid.\n",
      "* http://purl.obolibrary.org/obo/UBERON_0002081 \"cardiac atrium\" also known as atria; atrium; atrium of heart; cardiac atria; heart atrium is Cardiac chamber in which blood enters the heart.\n",
      "* http://purl.obolibrary.org/obo/UBERON_0018674 \"heart vasculature\" also known as cardiac vasculature is An interconnected tubular multi-tissue structure that contains fluid that is actively transported around the heart.\n",
      "* http://purl.obolibrary.org/obo/UBERON_0011820 \"atrioventricular region\" is An anatomical junction that divides and overlaps with and atrium and a ventricle in the heart.\n",
      "* http://purl.obolibrary.org/obo/UBERON_0002099 \"cardiac septum\" also known as cardiac septa; heart septa; heart septum; septum of heart is The thin membranous structure between the two heart atria or the thick muscular structure between the two heart ventricles.\n",
      "\n",
      "Usage: Usage(input=542, output=24, details=None)\n"
     ]
    },
    {
     "data": {
      "text/markdown": [
       "\n",
       "**Response:**\n",
       "\n",
       "The human heart has four chambers: two atria (upper chambers) and two ventricles (lower chambers)."
      ],
      "text/plain": [
       "<IPython.core.display.Markdown object>"
      ]
     },
     "metadata": {},
     "output_type": "display_data"
    }
   ],
   "source": [
    "response = rag_prompt(\"How many chambers are in the heart?\")"
   ]
  },
  {
   "cell_type": "markdown",
   "metadata": {},
   "source": [
    "### Prompt: What is the UBERON term for a heart's atrium?"
   ]
  },
  {
   "cell_type": "code",
   "execution_count": 11,
   "metadata": {},
   "outputs": [
    {
     "name": "stdout",
     "output_type": "stream",
     "text": [
      "Prompt: What is the UBERON term for a heart's atrium?\n",
      "System Prompt: Answer in one sentence in an informal tone.\n",
      "Context:\n",
      "* http://purl.obolibrary.org/obo/UBERON_0002081 \"cardiac atrium\" also known as atria; atrium; atrium of heart; cardiac atria; heart atrium is Cardiac chamber in which blood enters the heart.\n",
      "* http://purl.obolibrary.org/obo/UBERON_0000946 \"cardiac valve\" also known as heart valve; valve of heart is A membranous fold of the heart that prevents reflux of fluid.\n",
      "* http://purl.obolibrary.org/obo/UBERON_0000948 \"heart\" also known as chambered heart; vertebrate heart is A myogenic muscular circulatory organ found in the vertebrate cardiovascular system composed of chambers of cardiac muscle. It is the primary circulatory organ.\n",
      "* http://purl.obolibrary.org/obo/UBERON_0002082 \"cardiac ventricle\" also known as heart ventricle; lower chamber of heart; ventricle of heart is Cardiac chamber through which blood leaves the heart.\n",
      "* http://purl.obolibrary.org/obo/CL_2000067 \"cardiac atrium fibroblast\" is Any fibroblast that is part of a cardiac atrium.\n",
      "* http://purl.obolibrary.org/obo/UBERON_0002079 \"left cardiac atrium\" also known as cardiac left atrium; heart left atrium; left atrium; left atrium of heart; left cardiac atrium; atrium sinistrum is A cardiac atrium that is in the left side of the heart. It receives oxygenated blood from the pulmonary veins, In mammals this is pumped into the left ventricle, via the Mitral valve.\n",
      "* http://purl.obolibrary.org/obo/UBERON_0011820 \"atrioventricular region\" is An anatomical junction that divides and overlaps with and atrium and a ventricle in the heart.\n",
      "* http://purl.obolibrary.org/obo/UBERON_0002078 \"right cardiac atrium\" also known as cardiac right atrium; heart right atrium; right atrium; right atrium of heart; right cardiac atrium is A cardiac atrium that is in the right side of the heart. It receives deoxygenated blood. In mammals, this comes from the superior and inferior vena cava and the coronary sinus, and pumps it into the right ventricle through the tricuspid valve.\n",
      "* http://purl.obolibrary.org/obo/UBERON_0002135 \"mitral valve\" also known as left atrioventricular valve; valva atrioventricularis sinistra is An atrioventricular valve that is part of the outflow part of the left atrium.\n",
      "* http://purl.obolibrary.org/obo/UBERON_0018674 \"heart vasculature\" also known as cardiac vasculature is An interconnected tubular multi-tissue structure that contains fluid that is actively transported around the heart.\n",
      "\n",
      "Usage: Usage(input=678, output=28, details=None)\n"
     ]
    },
    {
     "data": {
      "text/markdown": [
       "\n",
       "**Response:**\n",
       "\n",
       "The UBERON term for a heart's atrium is \"cardiac atrium\" (UBERON_0002081)."
      ],
      "text/plain": [
       "<IPython.core.display.Markdown object>"
      ]
     },
     "metadata": {},
     "output_type": "display_data"
    }
   ],
   "source": [
    "response = rag_prompt(\"What is the UBERON term for a heart's atrium?\")"
   ]
  },
  {
   "cell_type": "markdown",
   "metadata": {},
   "source": [
    "### Prompt: What kind of cells occur in the 'cardiac atrium'?"
   ]
  },
  {
   "cell_type": "code",
   "execution_count": 12,
   "metadata": {},
   "outputs": [
    {
     "name": "stdout",
     "output_type": "stream",
     "text": [
      "Prompt: What kind of cells occur in the 'cardiac atrium'?\n",
      "System Prompt: Include references to Cell Ontology (http://purl.obolibrary.org/obo/CL_xxx) and UBERON (http://purl.obolibrary.org/obo/UBERON_xxx) where possible.\n",
      "Context:\n",
      "* http://purl.obolibrary.org/obo/CL_1000477 \"cardiac pacemaker cell of sinoatrial node\" is A nodal myocyte that is part of the sinoatrial node.\n",
      "* http://purl.obolibrary.org/obo/CL_2000067 \"cardiac atrium fibroblast\" is Any fibroblast that is part of a cardiac atrium.\n",
      "* http://purl.obolibrary.org/obo/CL_0002350 \"endocardial cell\" is An endothelial cell that lines the intracavitary lumen of the heart, separating the circulating blood from the underlying myocardium. This cell type releases a number of vasoactive substances including prostacyclin, nitrous oxide and endothelin.\n",
      "* http://purl.obolibrary.org/obo/CL_4030032 \"valve interstitial cell\" is An interstitial cell that is part of a cardiac valve leaflet. Along with valve endothelial cells, a valve interstitial cell maintains tissue homeostasis for the function of cardiac valves through secreting biochemical signals, matrix proteins and matrix remodeling enzymes.\n",
      "* http://purl.obolibrary.org/obo/CL_2000066 \"cardiac ventricle fibroblast\" is Any fibroblast that is part of a cardiac ventricle.\n",
      "* http://purl.obolibrary.org/obo/UBERON_0011820 \"atrioventricular region\" is An anatomical junction that divides and overlaps with and atrium and a ventricle in the heart.\n",
      "* http://purl.obolibrary.org/obo/UBERON_0000948 \"heart\" also known as chambered heart; vertebrate heart is A myogenic muscular circulatory organ found in the vertebrate cardiovascular system composed of chambers of cardiac muscle. It is the primary circulatory organ.\n",
      "* http://purl.obolibrary.org/obo/UBERON_0018674 \"heart vasculature\" also known as cardiac vasculature is An interconnected tubular multi-tissue structure that contains fluid that is actively transported around the heart.\n",
      "* http://purl.obolibrary.org/obo/UBERON_0002078 \"right cardiac atrium\" also known as cardiac right atrium; heart right atrium; right atrium; right atrium of heart; right cardiac atrium is A cardiac atrium that is in the right side of the heart. It receives deoxygenated blood. In mammals, this comes from the superior and inferior vena cava and the coronary sinus, and pumps it into the right ventricle through the tricuspid valve.\n",
      "* http://purl.obolibrary.org/obo/UBERON_0002081 \"cardiac atrium\" also known as atria; atrium; atrium of heart; cardiac atria; heart atrium is Cardiac chamber in which blood enters the heart.\n",
      "\n",
      "Usage: Usage(input=683, output=254, details=None)\n"
     ]
    },
    {
     "data": {
      "text/markdown": [
       "\n",
       "**Response:**\n",
       "\n",
       "In the \"cardiac atrium,\" several types of specialized cells are present. According to the context provided, these include:\n",
       "\n",
       "1. **Cardiac Atrium Fibroblasts (CL_2000067):** These are fibroblast cells that reside specifically within the cardiac atrium. Fibroblasts play a crucial role in producing and maintaining the extracellular matrix and supporting tissue repair.\n",
       "\n",
       "2. **Endocardial Cells (CL_0002350):** These endothelial cells line the intracavitary lumen of the heart, including the chambers such as the atria. They are responsible for separating circulating blood from the underlying myocardium and releasing vasoactive substances like prostacyclin, nitrous oxide, and endothelin.\n",
       "\n",
       "The cardiac atrium itself is an anatomical chamber defined by UBERON_0018674 \"cardiac atrium,\" which facilitates the entry of blood into the heart. The right cardiac atrium (UBERON_0002078) is a specific example of a cardiac atrium that receives deoxygenated blood from various sources and pumps it into the right ventricle.\n",
       "\n",
       "These cell types work together to maintain the structural integrity, function, and homeostasis of the cardiac atrium."
      ],
      "text/plain": [
       "<IPython.core.display.Markdown object>"
      ]
     },
     "metadata": {},
     "output_type": "display_data"
    }
   ],
   "source": [
    "system = \"Include references to Cell Ontology (http://purl.obolibrary.org/obo/CL_xxx) and UBERON (http://purl.obolibrary.org/obo/UBERON_xxx) where possible.\"\n",
    "response = rag_prompt(\"What kind of cells occur in the 'cardiac atrium'?\", system)"
   ]
  }
 ],
 "metadata": {
  "kernelspec": {
   "display_name": ".venv",
   "language": "python",
   "name": "python3"
  },
  "language_info": {
   "codemirror_mode": {
    "name": "ipython",
    "version": 3
   },
   "file_extension": ".py",
   "mimetype": "text/x-python",
   "name": "python",
   "nbconvert_exporter": "python",
   "pygments_lexer": "ipython3",
   "version": "3.10.12"
  }
 },
 "nbformat": 4,
 "nbformat_minor": 2
}
