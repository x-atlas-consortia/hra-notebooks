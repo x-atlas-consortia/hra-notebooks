{
 "cells": [
  {
   "cell_type": "markdown",
   "metadata": {},
   "source": [
    "# Check 2D FTU cell labels against Cell Ontology"
   ]
  },
  {
   "cell_type": "code",
   "execution_count": 1,
   "metadata": {},
   "outputs": [
    {
     "name": "stdout",
     "output_type": "stream",
     "text": [
      "Requirement already satisfied: requests in /u/bherr/workspaces/hubmap/hra-notebooks/.venv/lib/python3.10/site-packages (2.32.3)\n",
      "Requirement already satisfied: idna<4,>=2.5 in /u/bherr/workspaces/hubmap/hra-notebooks/.venv/lib/python3.10/site-packages (from requests) (3.10)\n",
      "Requirement already satisfied: urllib3<3,>=1.21.1 in /u/bherr/workspaces/hubmap/hra-notebooks/.venv/lib/python3.10/site-packages (from requests) (2.0.7)\n",
      "Requirement already satisfied: charset-normalizer<4,>=2 in /u/bherr/workspaces/hubmap/hra-notebooks/.venv/lib/python3.10/site-packages (from requests) (3.4.0)\n",
      "Requirement already satisfied: certifi>=2017.4.17 in /u/bherr/workspaces/hubmap/hra-notebooks/.venv/lib/python3.10/site-packages (from requests) (2024.8.30)\n",
      "Note: you may need to restart the kernel to use updated packages.\n"
     ]
    }
   ],
   "source": [
    "%pip install requests"
   ]
  },
  {
   "cell_type": "code",
   "execution_count": 2,
   "metadata": {},
   "outputs": [],
   "source": [
    "CROSSWALK=\"https://cdn.humanatlas.io/digital-objects/2d-ftu/asct-b-2d-models-crosswalk/latest/assets/asct-b-2d-models-crosswalk.csv\"\n",
    "FIRST_COL_NAME=\"organ_label\"\n",
    "SPARQL_ENDPOINT=\"https://lod.humanatlas.io/sparql\""
   ]
  },
  {
   "cell_type": "code",
   "execution_count": 3,
   "metadata": {},
   "outputs": [],
   "source": [
    "# Reusable functions\n",
    "\n",
    "import requests\n",
    "import csv\n",
    "from io import StringIO\n",
    "\n",
    "def sparql_select(query, endpoint=SPARQL_ENDPOINT):\n",
    "    content = requests.post(endpoint, {\"query\": query}, headers={\"Accept\": \"text/csv\"}).text\n",
    "    with StringIO(content) as csvText:\n",
    "        content = list(csv.DictReader(csvText))\n",
    "    return content"
   ]
  },
  {
   "cell_type": "code",
   "execution_count": 4,
   "metadata": {},
   "outputs": [
    {
     "data": {
      "text/plain": [
       "{'organ_label': 'Kidney',\n",
       " 'organ_id': 'UBERON:0002113',\n",
       " 'anatomical_structure_of': '#FTUCorticalCollectingDuct',\n",
       " 'source_spatial_entity': '#2DRefObjects',\n",
       " 'node_group': 'Cortical_Collecting_Duct_Principal_Cell',\n",
       " 'node_name': 'Cortical_Collecting_Duct_Principal_Cell_1',\n",
       " 'label': 'kidney cortex collecting duct principal cell',\n",
       " 'OntologyID': 'CL:1000714',\n",
       " 'representation_of': 'http://purl.obolibrary.org/obo/CL_1000714',\n",
       " 'svg file of single 2DFTU': '2d-ftu-kidney-cortical-collecting-duct',\n",
       " 'exist_asctb': '1',\n",
       " 'type': 'CT',\n",
       " 'REF/1': 'Krstic, R.V. 1991. Human Microscopic Anatomy: An Atlas for Students of Medicine and Biology. Springer. https://books.google.com/books?id=hB6nqQCPKBoC.',\n",
       " 'REF/1/ID': 'ISBN:9783540536666',\n",
       " 'REF/1/NOTES': '',\n",
       " 'REF/2': 'Ross, M.H., and W. Pawlina. 2006. Histology. Lippincott Williams & Wilkins. https://books.google.com/books?id=FoSiGTXn6BUC.',\n",
       " 'REF/2/ID': 'ISBN:9780781767903',\n",
       " 'REF/2/NOTES': '',\n",
       " 'REF/3': 'Hu, Rui, Alicia A. McDonough, and Anita T. Layton. 2021. â\\x80\\x9cSex Differences in Solute and Water Handling in the Human Kidney: Modeling and Functional Implications.â\\x80\\x9d iScience 24 (6). https://doi.org/10.1016/j.isci.2021.102667.',\n",
       " 'REF/3/ID': 'https://doi.org/10.1016/j.isci.2021.102667',\n",
       " 'REF/3/NOTES': '',\n",
       " 'REF/4': '',\n",
       " 'REF4/ID': '',\n",
       " 'REF/4/NOTES': '',\n",
       " 'REF/5': '',\n",
       " 'REF/5/ID': '',\n",
       " 'REF/5/NOTES': '',\n",
       " 'REF/6': '',\n",
       " 'REF/6/ID': '',\n",
       " 'REF/6/NOTES': '',\n",
       " 'Inset #': ''}"
      ]
     },
     "execution_count": 4,
     "metadata": {},
     "output_type": "execute_result"
    }
   ],
   "source": [
    "crosswalk = requests.get(CROSSWALK).text\n",
    "crosswalk_lines = crosswalk.splitlines()\n",
    "header_index = next(i for i, line in enumerate(crosswalk_lines) if line.startswith(FIRST_COL_NAME))\n",
    "csv_reader = csv.DictReader(crosswalk_lines[header_index:])\n",
    "parsed_data = list(csv_reader)\n",
    "parsed_data[0]"
   ]
  },
  {
   "cell_type": "code",
   "execution_count": 5,
   "metadata": {},
   "outputs": [
    {
     "name": "stdout",
     "output_type": "stream",
     "text": [
      "264 mismatched labels\n"
     ]
    }
   ],
   "source": [
    "values = \" \".join([ f\"({i + header_index} <{row['representation_of']}> \\\"{row['label']}\\\" )\" for i, row in enumerate(parsed_data) ])\n",
    "query = f\"\"\"\n",
    "PREFIX rdf: <http://www.w3.org/1999/02/22-rdf-syntax-ns#>\n",
    "PREFIX rdfs: <http://www.w3.org/2000/01/rdf-schema#>\n",
    "\n",
    "SELECT *\n",
    "FROM <https://purl.humanatlas.io/vocab/cl>\n",
    "WHERE {{\n",
    "  VALUES (?csv_row ?iri ?crosswalk_label) {{\n",
    "    {values}\n",
    "  }}\n",
    "  ?iri rdfs:label ?cl_label .\n",
    "  FILTER(LCASE(STR(?cl_label)) != LCASE(STR(?crosswalk_label)))\n",
    "}}\n",
    "\"\"\"\n",
    "\n",
    "mismatched_labels = sparql_select(query)\n",
    "print(len(mismatched_labels), \"mismatched labels\")"
   ]
  },
  {
   "cell_type": "code",
   "execution_count": 6,
   "metadata": {},
   "outputs": [
    {
     "name": "stdout",
     "output_type": "stream",
     "text": [
      "mismatched labels written to data/2d-ftu-mismatched-labels.csv\n"
     ]
    }
   ],
   "source": [
    "with open('data/2d-ftu-mismatched-labels.csv', 'w', newline='') as csvfile:\n",
    "    fieldnames = mismatched_labels[0].keys()\n",
    "    writer = csv.DictWriter(csvfile, fieldnames=fieldnames)\n",
    "    writer.writeheader()\n",
    "    writer.writerows(mismatched_labels)\n",
    "\n",
    "print(\"mismatched labels written to data/2d-ftu-mismatched-labels.csv\")"
   ]
  }
 ],
 "metadata": {
  "kernelspec": {
   "display_name": ".venv",
   "language": "python",
   "name": "python3"
  },
  "language_info": {
   "codemirror_mode": {
    "name": "ipython",
    "version": 3
   },
   "file_extension": ".py",
   "mimetype": "text/x-python",
   "name": "python",
   "nbconvert_exporter": "python",
   "pygments_lexer": "ipython3",
   "version": "3.10.12"
  }
 },
 "nbformat": 4,
 "nbformat_minor": 2
}
