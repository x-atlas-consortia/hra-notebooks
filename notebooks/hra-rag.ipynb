{
 "cells": [
  {
   "cell_type": "markdown",
   "metadata": {},
   "source": [
    "# Using LLMs and RAG with HRA KG\n",
    "\n",
    "This notebook shows how to setup a basic vector database populated from the HRA KG which is then used to augment prompts to an LLM."
   ]
  },
  {
   "cell_type": "markdown",
   "metadata": {},
   "source": [
    "# Variables to tweak\n",
    "\n",
    "Below are some variables you can tweak to customize this notebook"
   ]
  },
  {
   "cell_type": "code",
   "execution_count": 1,
   "metadata": {},
   "outputs": [],
   "source": [
    "# Model to use for embedding in the vector db\n",
    "SENTENCE_TRANSFORMER=\"all-mpnet-base-v2\"\n",
    "\n",
    "# LLM model variables\n",
    "LLM_MODEL=\"phi4:14b\" # \"llama3.2:3b\" \"phi4:14b\"\n",
    "SHOW_DEBUG_INFO=True\n",
    "DEFAULT_SYSTEM_PROMPT=\"Answer in one sentence in an informal tone.\"\n",
    "\n",
    "# Variables for getting RAG content to index from HRA KG\n",
    "SPARQL_ENDPOINT=\"https://lod.humanatlas.io/sparql\"\n",
    "CONTENT_QUERY_FILE='hra-rag-kidney-content.rq'\n",
    "CONTENT_QUERY_REPLACEMENT_KEYWORD='http://purl.obolibrary.org/obo/UBERON_0002113'\n",
    "\n",
    "# Updating the term below will change which term/organ to use\n",
    "CONTENT_QUERY_REPLACEMENT_VALUE='http://purl.obolibrary.org/obo/UBERON_0002113' # Kidney\n",
    "\n",
    "# Set to False to skip installing prerequisites\n",
    "SKIP_INSTALL=False"
   ]
  },
  {
   "cell_type": "markdown",
   "metadata": {},
   "source": [
    "## Install pre-requisites\n",
    "\n",
    "For this notebook, we require `ollama` to be installed (<https://ollama.com/download>) and running locally (though this could be reconfigured to work with other services) and a few python packages."
   ]
  },
  {
   "cell_type": "code",
   "execution_count": 2,
   "metadata": {},
   "outputs": [],
   "source": [
    "if not SKIP_INSTALL:\n",
    "    %pip install llm requests\n",
    "    !llm install llm-ollama llm-sentence-transformers\n",
    "    !llm sentence-transformers register {SENTENCE_TRANSFORMER}\n",
    "    !ollama pull {LLM_MODEL}"
   ]
  },
  {
   "cell_type": "markdown",
   "metadata": {},
   "source": [
    "## Populate the Vector DB from HRA KG"
   ]
  },
  {
   "cell_type": "code",
   "execution_count": 3,
   "metadata": {},
   "outputs": [],
   "source": [
    "# Reusable functions\n",
    "\n",
    "import requests\n",
    "import csv\n",
    "from io import StringIO\n",
    "\n",
    "def sparql_select(query, endpoint=SPARQL_ENDPOINT):\n",
    "    content = requests.post(endpoint, {\"query\": query}, headers={\"Accept\": \"text/csv\"}).text\n",
    "    with StringIO(content) as csvText:\n",
    "        content = list(csv.DictReader(csvText))\n",
    "    return content"
   ]
  },
  {
   "cell_type": "code",
   "execution_count": 4,
   "metadata": {},
   "outputs": [
    {
     "name": "stdout",
     "output_type": "stream",
     "text": [
      "143 terms\n"
     ]
    },
    {
     "data": {
      "text/plain": [
       "[{'term': 'http://purl.obolibrary.org/obo/UBERON_0009095',\n",
       "  'name': 'tip of renal papilla',\n",
       "  'aka': 'papillary tip; papillary tips',\n",
       "  'description': 'tip of renal papilla'},\n",
       " {'term': 'http://purl.obolibrary.org/obo/UBERON_0012441',\n",
       "  'name': 'endothelium of peritubular capillary',\n",
       "  'aka': 'peritubular capillary endothelium',\n",
       "  'description': 'An endothelium that is part of a peritubular capillary.'},\n",
       " {'term': 'http://purl.obolibrary.org/obo/UBERON_0002015',\n",
       "  'name': 'kidney capsule',\n",
       "  'aka': 'capsula fibrosa renis; capsule of kidney; fibrous capsule of kidney; renal capsule',\n",
       "  'description': 'The tough fibrous layer surrounding the kidney which is covered in a thick layer of perirenal adipose tissue that functions to provide some protection from trauma and damage.'}]"
      ]
     },
     "execution_count": 4,
     "metadata": {},
     "output_type": "execute_result"
    }
   ],
   "source": [
    "# Run SPARQL query in hra-rag-content.rq to get the text content to use in the vector DB\n",
    "\n",
    "query = open(CONTENT_QUERY_FILE, encoding='utf8').read()\n",
    "query = query.replace(CONTENT_QUERY_REPLACEMENT_KEYWORD, CONTENT_QUERY_REPLACEMENT_VALUE) # Replace the used in the default query\n",
    "results = sparql_select(query)\n",
    "print(len(results), \"terms\")\n",
    "results[:3]"
   ]
  },
  {
   "cell_type": "code",
   "execution_count": 5,
   "metadata": {},
   "outputs": [],
   "source": [
    "# Initialize collection to store HRA KG entries\n",
    "\n",
    "import llm\n",
    "\n",
    "embedding_model = llm.get_embedding_model(f\"sentence-transformers/{SENTENCE_TRANSFORMER}\")\n",
    "collection = llm.Collection(\"entries\", model=embedding_model)\n",
    "collection_entries = [ (meta['term'], f\"{meta['term']} \\\"{meta['name']}\\\"{(' also known as ' + meta['aka']) if meta['aka'] else ''} is {meta['description']}\", meta) for meta in results ] \n",
    "collection.embed_multi_with_metadata(collection_entries, store=True)"
   ]
  },
  {
   "cell_type": "code",
   "execution_count": 6,
   "metadata": {},
   "outputs": [
    {
     "name": "stdout",
     "output_type": "stream",
     "text": [
      "http://purl.obolibrary.org/obo/UBERON_0002113 0.6173296314560971 http://purl.obolibrary.org/obo/UBERON_0002113 \"kidney\" is A paired organ of the urinary tract that produces urine and maintains bodily fluid homeostasis, blood pressure, pH levels, red blood cell production and skeleton mineralization. {'term': 'http://purl.obolibrary.org/obo/UBERON_0002113', 'name': 'kidney', 'aka': '', 'description': 'A paired organ of the urinary tract that produces urine and maintains bodily fluid homeostasis, blood pressure, pH levels, red blood cell production and skeleton mineralization.'}\n",
      "http://purl.obolibrary.org/obo/UBERON_0001224 0.5528655626955084 http://purl.obolibrary.org/obo/UBERON_0001224 \"renal pelvis\" also known as kidney pelvis; pelvis of ureter is A funnel shaped proximal portion of the ureter that is formed by convergence of the major calices [MP]. {'term': 'http://purl.obolibrary.org/obo/UBERON_0001224', 'name': 'renal pelvis', 'aka': 'kidney pelvis; pelvis of ureter', 'description': 'A funnel shaped proximal portion of the ureter that is formed by convergence of the major calices [MP].'}\n",
      "http://purl.obolibrary.org/obo/UBERON_0001225 0.5427157255635103 http://purl.obolibrary.org/obo/UBERON_0001225 \"cortex of kidney\" also known as kidney cortex; renal cortex; cortex renalis is Outer cortical portion of the kidney, between the renal capsule and the renal medulla. {'term': 'http://purl.obolibrary.org/obo/UBERON_0001225', 'name': 'cortex of kidney', 'aka': 'kidney cortex; renal cortex; cortex renalis', 'description': 'Outer cortical portion of the kidney, between the renal capsule and the renal medulla.'}\n",
      "http://purl.obolibrary.org/obo/UBERON_0006544 0.5422025105590066 http://purl.obolibrary.org/obo/UBERON_0006544 \"kidney vasculature\" is A vasculature that is part of a kidney. {'term': 'http://purl.obolibrary.org/obo/UBERON_0006544', 'name': 'kidney vasculature', 'aka': '', 'description': 'A vasculature that is part of a kidney.'}\n",
      "http://purl.obolibrary.org/obo/UBERON_0002189 0.5309772874220695 http://purl.obolibrary.org/obo/UBERON_0002189 \"outer cortex of kidney\" also known as kidney outer cortex; outer renal cortex is outer cortex of kidney {'term': 'http://purl.obolibrary.org/obo/UBERON_0002189', 'name': 'outer cortex of kidney', 'aka': 'kidney outer cortex; outer renal cortex', 'description': 'outer cortex of kidney'}\n",
      "http://purl.obolibrary.org/obo/UBERON_0006517 0.5202914581364834 http://purl.obolibrary.org/obo/UBERON_0006517 \"kidney calyx\" also known as calices renales; renal calix; renal calyx is Recesses of the kidney pelvis which divides into two wide, cup-shaped major renal calices, with each major calix subdivided into 7 to 14 minor calices. Urine empties into a minor calix from collecting tubules, then passes through the major calix, renal pelvis, and ureter to enter the urinary bladder. (From Moore, Clinically Oriented Anatomy, 3d ed, p211). {'term': 'http://purl.obolibrary.org/obo/UBERON_0006517', 'name': 'kidney calyx', 'aka': 'calices renales; renal calix; renal calyx', 'description': 'Recesses of the kidney pelvis which divides into two wide, cup-shaped major renal calices, with each major calix subdivided into 7 to 14 minor calices. Urine empties into a minor calix from collecting tubules, then passes through the major calix, renal pelvis, and ureter to enter the urinary bladder. (From Moore, Clinically Oriented Anatomy, 3d ed, p211).'}\n",
      "http://purl.obolibrary.org/obo/UBERON_0001227 0.5189968825774346 http://purl.obolibrary.org/obo/UBERON_0001227 \"minor calyx\" also known as calices renales minores; minor calix is Portion of the urinary collecting system within the kidney that drains one renal papilla. {'term': 'http://purl.obolibrary.org/obo/UBERON_0001227', 'name': 'minor calyx', 'aka': 'calices renales minores; minor calix', 'description': 'Portion of the urinary collecting system within the kidney that drains one renal papilla.'}\n",
      "http://purl.obolibrary.org/obo/UBERON_0005215 0.5169847597630137 http://purl.obolibrary.org/obo/UBERON_0005215 \"kidney interstitium\" also known as interstitial tissue of kidney; renal interstitial tissue; renal interstitium; renal stroma; stroma of kidney is The interstitial compartment of the kidney, comprising the extravascular intertubular spaces of the renal parenchyma, with their attendant cellular elements and extracellular substances, bounded on all sides by epithelial and vascular basement membranes. {'term': 'http://purl.obolibrary.org/obo/UBERON_0005215', 'name': 'kidney interstitium', 'aka': 'interstitial tissue of kidney; renal interstitial tissue; renal interstitium; renal stroma; stroma of kidney', 'description': 'The interstitial compartment of the kidney, comprising the extravascular intertubular spaces of the renal parenchyma, with their attendant cellular elements and extracellular substances, bounded on all sides by epithelial and vascular basement membranes.'}\n",
      "http://purl.obolibrary.org/obo/UBERON_0000362 0.515971219022579 http://purl.obolibrary.org/obo/UBERON_0000362 \"renal medulla\" also known as kidney medulla; medulla of kidney; medulla renalis; pyramides renales; renal medullae; renal medullae set; renal pyramids; renal pyramids set is The inner portion of the kidney consisting of the renal pyramids. {'term': 'http://purl.obolibrary.org/obo/UBERON_0000362', 'name': 'renal medulla', 'aka': 'kidney medulla; medulla of kidney; medulla renalis; pyramides renales; renal medullae; renal medullae set; renal pyramids; renal pyramids set', 'description': 'The inner portion of the kidney consisting of the renal pyramids.'}\n",
      "http://purl.obolibrary.org/obo/UBERON_0001226 0.5133679825991915 http://purl.obolibrary.org/obo/UBERON_0001226 \"major calyx\" also known as calices renales majores; major calix is Portion of the urinary collecting system within the kidney that drains several minor calyces. {'term': 'http://purl.obolibrary.org/obo/UBERON_0001226', 'name': 'major calyx', 'aka': 'calices renales majores; major calix', 'description': 'Portion of the urinary collecting system within the kidney that drains several minor calyces.'}\n"
     ]
    }
   ],
   "source": [
    "# Test similarity search\n",
    "\n",
    "for entry in collection.similar(\"kidney\", number=10):\n",
    "    print(entry.id, entry.score, entry.content, entry.metadata)"
   ]
  },
  {
   "cell_type": "markdown",
   "metadata": {},
   "source": [
    "## Setup LLM"
   ]
  },
  {
   "cell_type": "code",
   "execution_count": 7,
   "metadata": {},
   "outputs": [],
   "source": [
    "# Initialize LLM for prompting\n",
    "\n",
    "import llm\n",
    "model = llm.get_model(LLM_MODEL)"
   ]
  },
  {
   "cell_type": "code",
   "execution_count": 8,
   "metadata": {},
   "outputs": [
    {
     "name": "stdout",
     "output_type": "stream",
     "text": [
      "The Human Reference Atlas is like a giant map showing where all the body parts and special helpers inside us live, so doctors can understand better how our bodies work!\n"
     ]
    }
   ],
   "source": [
    "# Test prompt\n",
    "\n",
    "response = model.prompt(\"What is the Human Reference Atlas (HRA)?\", system=\"Answer in one sentence like a five year old.\")\n",
    "print(response.text())"
   ]
  },
  {
   "cell_type": "markdown",
   "metadata": {},
   "source": [
    "## Setup RAG Prompt"
   ]
  },
  {
   "cell_type": "code",
   "execution_count": 9,
   "metadata": {},
   "outputs": [],
   "source": [
    "from IPython.display import Markdown\n",
    "\n",
    "def rag_prompt(prompt, system = DEFAULT_SYSTEM_PROMPT, debug = SHOW_DEBUG_INFO):\n",
    "    terms = [ f\"* {entry.content}\\n\" for entry in collection.similar(prompt, number=10) ]\n",
    "    if len(terms) > 0:\n",
    "        system = f\"{system}\\nContext:\\n{''.join(terms)}\"\n",
    "    response = model.prompt(prompt, system=system, stream = False)\n",
    "    if debug:\n",
    "        print(\"Prompt:\", prompt)\n",
    "        print(\"System Prompt:\", system)\n",
    "        print(\"Usage:\", response.usage())\n",
    "        # print(\"\\nResponse:\\n\")\n",
    "        # print(response.text())\n",
    "        display(Markdown(\"\\n**Response:**\\n\\n\" + response.text()))\n",
    "    return response\n"
   ]
  },
  {
   "cell_type": "markdown",
   "metadata": {},
   "source": [
    "## Prompts\n",
    "\n",
    "### Prompt: How many calesces are in the kidney?"
   ]
  },
  {
   "cell_type": "code",
   "execution_count": 10,
   "metadata": {},
   "outputs": [
    {
     "name": "stdout",
     "output_type": "stream",
     "text": [
      "Prompt: How many calesces are in the kidney?\n",
      "System Prompt: Answer in one sentence in an informal tone.\n",
      "Context:\n",
      "* http://purl.obolibrary.org/obo/UBERON_0006517 \"kidney calyx\" also known as calices renales; renal calix; renal calyx is Recesses of the kidney pelvis which divides into two wide, cup-shaped major renal calices, with each major calix subdivided into 7 to 14 minor calices. Urine empties into a minor calix from collecting tubules, then passes through the major calix, renal pelvis, and ureter to enter the urinary bladder. (From Moore, Clinically Oriented Anatomy, 3d ed, p211).\n",
      "* http://purl.obolibrary.org/obo/UBERON_0001226 \"major calyx\" also known as calices renales majores; major calix is Portion of the urinary collecting system within the kidney that drains several minor calyces.\n",
      "* http://purl.obolibrary.org/obo/UBERON_0001227 \"minor calyx\" also known as calices renales minores; minor calix is Portion of the urinary collecting system within the kidney that drains one renal papilla.\n",
      "* http://purl.obolibrary.org/obo/UBERON_0002113 \"kidney\" is A paired organ of the urinary tract that produces urine and maintains bodily fluid homeostasis, blood pressure, pH levels, red blood cell production and skeleton mineralization.\n",
      "* http://purl.obolibrary.org/obo/UBERON_0001224 \"renal pelvis\" also known as kidney pelvis; pelvis of ureter is A funnel shaped proximal portion of the ureter that is formed by convergence of the major calices [MP].\n",
      "* http://purl.obolibrary.org/obo/UBERON_0005215 \"kidney interstitium\" also known as interstitial tissue of kidney; renal interstitial tissue; renal interstitium; renal stroma; stroma of kidney is The interstitial compartment of the kidney, comprising the extravascular intertubular spaces of the renal parenchyma, with their attendant cellular elements and extracellular substances, bounded on all sides by epithelial and vascular basement membranes.\n",
      "* http://purl.obolibrary.org/obo/CL_1001318 \"renal interstitial pericyte\" is A pericyte cell located in the kidney interstitium.\n",
      "* http://purl.obolibrary.org/obo/CL_1000717 \"kidney outer medulla collecting duct intercalated cell\" is Intercalated cell that is part of some outer medullary collecting duct. It is known in some mammalian species that this cell may contribute in the maintenance of acid/base homeostasis.\n",
      "* http://purl.obolibrary.org/obo/UBERON_0010181 \"straight venules of kidney\" also known as set of straight venules of kidney; venulae rectae of kidney; venulae rectae renis is The straight venules of kidney are branches from the plexuses at the apices of the medullary pyramids, formed by the terminations of the arteriae rectae. They run outward in a straight course between the tubes of the medullary substance, and joining, as above stated, the interlobular veins, form venous arcades; these in turn unite and form veins which pass along the sides of the pyramids. Contains fenestrated capillaries.\n",
      "* http://purl.obolibrary.org/obo/UBERON_0001225 \"cortex of kidney\" also known as kidney cortex; renal cortex; cortex renalis is Outer cortical portion of the kidney, between the renal capsule and the renal medulla.\n",
      "\n",
      "Usage: Usage(input=820, output=23, details=None)\n"
     ]
    },
    {
     "data": {
      "text/markdown": [
       "\n",
       "**Response:**\n",
       "\n",
       "The kidney has two major calyces, each divided into 7 to 14 minor calyces."
      ],
      "text/plain": [
       "<IPython.core.display.Markdown object>"
      ]
     },
     "metadata": {},
     "output_type": "display_data"
    }
   ],
   "source": [
    "response = rag_prompt(\"How many calesces are in the kidney?\")"
   ]
  },
  {
   "cell_type": "markdown",
   "metadata": {},
   "source": [
    "### Prompt: What is the UBERON term for 'renal calyx'?"
   ]
  },
  {
   "cell_type": "code",
   "execution_count": 11,
   "metadata": {},
   "outputs": [
    {
     "name": "stdout",
     "output_type": "stream",
     "text": [
      "Prompt: What is the UBERON term for 'renal calyx'?\n",
      "System Prompt: Answer in one sentence in an informal tone.\n",
      "Context:\n",
      "* http://purl.obolibrary.org/obo/UBERON_0001227 \"minor calyx\" also known as calices renales minores; minor calix is Portion of the urinary collecting system within the kidney that drains one renal papilla.\n",
      "* http://purl.obolibrary.org/obo/UBERON_0001226 \"major calyx\" also known as calices renales majores; major calix is Portion of the urinary collecting system within the kidney that drains several minor calyces.\n",
      "* http://purl.obolibrary.org/obo/UBERON_0006517 \"kidney calyx\" also known as calices renales; renal calix; renal calyx is Recesses of the kidney pelvis which divides into two wide, cup-shaped major renal calices, with each major calix subdivided into 7 to 14 minor calices. Urine empties into a minor calix from collecting tubules, then passes through the major calix, renal pelvis, and ureter to enter the urinary bladder. (From Moore, Clinically Oriented Anatomy, 3d ed, p211).\n",
      "* http://purl.obolibrary.org/obo/UBERON_0001228 \"renal papilla\" also known as kidney papilla is Tip of renal pyramid projecting into a minor calyx.\n",
      "* http://purl.obolibrary.org/obo/UBERON_0001224 \"renal pelvis\" also known as kidney pelvis; pelvis of ureter is A funnel shaped proximal portion of the ureter that is formed by convergence of the major calices [MP].\n",
      "* http://purl.obolibrary.org/obo/UBERON_0002189 \"outer cortex of kidney\" also known as kidney outer cortex; outer renal cortex is outer cortex of kidney\n",
      "* http://purl.obolibrary.org/obo/UBERON_0005215 \"kidney interstitium\" also known as interstitial tissue of kidney; renal interstitial tissue; renal interstitium; renal stroma; stroma of kidney is The interstitial compartment of the kidney, comprising the extravascular intertubular spaces of the renal parenchyma, with their attendant cellular elements and extracellular substances, bounded on all sides by epithelial and vascular basement membranes.\n",
      "* http://purl.obolibrary.org/obo/UBERON_0000362 \"renal medulla\" also known as kidney medulla; medulla of kidney; medulla renalis; pyramides renales; renal medullae; renal medullae set; renal pyramids; renal pyramids set is The inner portion of the kidney consisting of the renal pyramids.\n",
      "* http://purl.obolibrary.org/obo/UBERON_0001229 \"renal corpuscle\" also known as Malpighian corpuscle; corpusculum renale; Malphigian corpuscle is The structure containing the glomerular capsule and the glomerulus that serves as the initial blood-filtering component of a nephron.\n",
      "* http://purl.obolibrary.org/obo/UBERON_0001284 \"renal column\" also known as column of Bertini; kidney column; renal column of Bertini; renal cortical column; columna Bertini is A column of tissue that is histologically identical to tissue found in the renal cortex, and which is located in the medullary region of kidney, between the renal pyramids.\n",
      "\n",
      "Usage: Usage(input=769, output=22, details=None)\n"
     ]
    },
    {
     "data": {
      "text/markdown": [
       "\n",
       "**Response:**\n",
       "\n",
       "The UBERON term for \"renal calyx\" is `UBERON_0006517`."
      ],
      "text/plain": [
       "<IPython.core.display.Markdown object>"
      ]
     },
     "metadata": {},
     "output_type": "display_data"
    }
   ],
   "source": [
    "response = rag_prompt(\"What is the UBERON term for 'renal calyx'?\")"
   ]
  },
  {
   "cell_type": "markdown",
   "metadata": {},
   "source": [
    "### Prompt: What kind of cells occur in the 'kidney calyx'?"
   ]
  },
  {
   "cell_type": "code",
   "execution_count": 12,
   "metadata": {},
   "outputs": [
    {
     "name": "stdout",
     "output_type": "stream",
     "text": [
      "Prompt: What kind of cells occur in the 'renal calyx'?\n",
      "System Prompt: Include references to Cell Ontology (http://purl.obolibrary.org/obo/CL_xxx) and UBERON (http://purl.obolibrary.org/obo/UBERON_xxx) where possible.\n",
      "Context:\n",
      "* http://purl.obolibrary.org/obo/UBERON_0006517 \"kidney calyx\" also known as calices renales; renal calix; renal calyx is Recesses of the kidney pelvis which divides into two wide, cup-shaped major renal calices, with each major calix subdivided into 7 to 14 minor calices. Urine empties into a minor calix from collecting tubules, then passes through the major calix, renal pelvis, and ureter to enter the urinary bladder. (From Moore, Clinically Oriented Anatomy, 3d ed, p211).\n",
      "* http://purl.obolibrary.org/obo/UBERON_0001226 \"major calyx\" also known as calices renales majores; major calix is Portion of the urinary collecting system within the kidney that drains several minor calyces.\n",
      "* http://purl.obolibrary.org/obo/UBERON_0001227 \"minor calyx\" also known as calices renales minores; minor calix is Portion of the urinary collecting system within the kidney that drains one renal papilla.\n",
      "* http://purl.obolibrary.org/obo/CL_0002307 \"brush border cell of the proximal tubule\" is A brush border epithelial cell located in the proximal tubule of the kidney, essential for reabsorbing substances like glucose and amino acids from the glomerular filtrate. These cells also secrete organic ions, playing a crucial role in maintaining kidney homeostasis, including electrolyte and acid-base balance, and excreting metabolic waste.\n",
      "* http://purl.obolibrary.org/obo/CL_0000648 \"kidney granular cell\" is A smooth muscle cell that synthesizes, stores, and secretes the enzyme renin. This cell type are located in the wall of the afferent arteriole at the entrance to the glomerulus. While having a different origin than other kidney smooth muscle cells, this cell type expresses smooth muscle actin upon maturation.\n",
      "* http://purl.obolibrary.org/obo/CL_1000717 \"kidney outer medulla collecting duct intercalated cell\" is Intercalated cell that is part of some outer medullary collecting duct. It is known in some mammalian species that this cell may contribute in the maintenance of acid/base homeostasis.\n",
      "* http://purl.obolibrary.org/obo/CL_1000454 \"kidney collecting duct epithelial cell\" is An epithelial cell that is part of the collecting duct of renal tubule.\n",
      "* http://purl.obolibrary.org/obo/CL_1000547 \"kidney inner medulla collecting duct epithelial cell\" is An epithelial cell that is part of some inner medullary collecting duct.\n",
      "* http://purl.obolibrary.org/obo/CL_1001318 \"renal interstitial pericyte\" is A pericyte cell located in the kidney interstitium.\n",
      "* http://purl.obolibrary.org/obo/CL_1000549 \"kidney cortex collecting duct epithelial cell\" is An epithelial cell that is part of a cortical collecting duct.\n",
      "\n",
      "Usage: Usage(input=755, output=243, details=None)\n"
     ]
    },
    {
     "data": {
      "text/markdown": [
       "\n",
       "**Response:**\n",
       "\n",
       "The term \"renal calyx,\" which includes both major and minor calyces, refers to specific anatomical structures within the kidney pelvis (UBERON:0006517). The primary function of these structures is to channel urine from the collecting ducts into the renal pelvis, ureter, and eventually the urinary bladder. \n",
       "\n",
       "In terms of cellular composition:\n",
       "- **Transitional epithelial cells** are predominant in the lining of the calyces. These cells form a type of stratified epithelium that can stretch and accommodate the passage of urine (UBERON:0000033, UBERON:0010076).\n",
       "\n",
       "While specific cell types such as those listed in your context, like \"brush border cell\" (CL_0002307) or \"kidney granular cells\" (CL_0000648), are found within other parts of the kidney tubules and vasculature, they do not occur specifically within the renal calyces. The transitional epithelial cells provide a protective lining to prevent urine from damaging underlying tissues as it passes through the renal calyx.\n",
       "\n",
       "If you have further questions about related cell types or structures in the kidney, feel free to ask!"
      ],
      "text/plain": [
       "<IPython.core.display.Markdown object>"
      ]
     },
     "metadata": {},
     "output_type": "display_data"
    }
   ],
   "source": [
    "system = \"Include references to Cell Ontology (http://purl.obolibrary.org/obo/CL_xxx) and UBERON (http://purl.obolibrary.org/obo/UBERON_xxx) where possible.\"\n",
    "response = rag_prompt(\"What kind of cells occur in the 'renal calyx'?\", system)"
   ]
  }
 ],
 "metadata": {
  "kernelspec": {
   "display_name": ".venv",
   "language": "python",
   "name": "python3"
  },
  "language_info": {
   "codemirror_mode": {
    "name": "ipython",
    "version": 3
   },
   "file_extension": ".py",
   "mimetype": "text/x-python",
   "name": "python",
   "nbconvert_exporter": "python",
   "pygments_lexer": "ipython3",
   "version": "3.10.12"
  }
 },
 "nbformat": 4,
 "nbformat_minor": 2
}
