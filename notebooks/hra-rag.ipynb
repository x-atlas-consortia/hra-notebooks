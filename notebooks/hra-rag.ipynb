{
 "cells": [
  {
   "cell_type": "markdown",
   "metadata": {},
   "source": [
    "# Using LLMs and RAG with HRA KG\n",
    "\n",
    "This notebook shows how to setup a basic vector database populated from the HRA KG which is then used to augment prompts to an LLM."
   ]
  },
  {
   "cell_type": "markdown",
   "metadata": {},
   "source": [
    "# Variables to tweak\n",
    "\n",
    "Below are some variables you can tweak to customize this notebook"
   ]
  },
  {
   "cell_type": "code",
   "execution_count": 1,
   "metadata": {},
   "outputs": [],
   "source": [
    "HRA_KEYWORDS=\"kidney renal\"\n",
    "LLM_MODEL=\"llama3.2:3b\" # \"llama3.2:3b\" \"phi4:14b\"\n",
    "SENTENCE_TRANSFORMER=\"all-mpnet-base-v2\"\n",
    "SPARQL_ENDPOINT=\"https://lod.humanatlas.io/sparql\"\n",
    "SHOW_DEBUG_INFO=True\n",
    "DEFAULT_SYSTEM_PROMPT=\"Answer in one sentence like a good friend.\""
   ]
  },
  {
   "cell_type": "markdown",
   "metadata": {},
   "source": [
    "## Install pre-requisites\n",
    "\n",
    "For this notebook, we require `ollama` to be installed (<https://ollama.com/download>) and running locally (though this could be reconfigured to work with other services) and a few python packages."
   ]
  },
  {
   "cell_type": "code",
   "execution_count": 2,
   "metadata": {},
   "outputs": [
    {
     "name": "stdout",
     "output_type": "stream",
     "text": [
      "Requirement already satisfied: llm in /u/bherr/workspaces/hubmap/hra-notebooks/.venv/lib/python3.10/site-packages (0.20)\n",
      "Requirement already satisfied: requests in /u/bherr/workspaces/hubmap/hra-notebooks/.venv/lib/python3.10/site-packages (2.32.3)\n",
      "Requirement already satisfied: pydantic>=1.10.2 in /u/bherr/workspaces/hubmap/hra-notebooks/.venv/lib/python3.10/site-packages (from llm) (2.9.2)\n",
      "Requirement already satisfied: sqlite-migrate>=0.1a2 in /u/bherr/workspaces/hubmap/hra-notebooks/.venv/lib/python3.10/site-packages (from llm) (0.1b0)\n",
      "Requirement already satisfied: puremagic in /u/bherr/workspaces/hubmap/hra-notebooks/.venv/lib/python3.10/site-packages (from llm) (1.28)\n",
      "Requirement already satisfied: pluggy in /u/bherr/workspaces/hubmap/hra-notebooks/.venv/lib/python3.10/site-packages (from llm) (1.5.0)\n",
      "Requirement already satisfied: openai>=1.55.3 in /u/bherr/workspaces/hubmap/hra-notebooks/.venv/lib/python3.10/site-packages (from llm) (1.60.2)\n",
      "Requirement already satisfied: PyYAML in /u/bherr/workspaces/hubmap/hra-notebooks/.venv/lib/python3.10/site-packages (from llm) (6.0.2)\n",
      "Requirement already satisfied: python-ulid in /u/bherr/workspaces/hubmap/hra-notebooks/.venv/lib/python3.10/site-packages (from llm) (3.0.0)\n",
      "Requirement already satisfied: pip in /u/bherr/workspaces/hubmap/hra-notebooks/.venv/lib/python3.10/site-packages (from llm) (22.0.2)\n",
      "Requirement already satisfied: click-default-group>=1.2.3 in /u/bherr/workspaces/hubmap/hra-notebooks/.venv/lib/python3.10/site-packages (from llm) (1.2.4)\n",
      "Requirement already satisfied: click in /u/bherr/workspaces/hubmap/hra-notebooks/.venv/lib/python3.10/site-packages (from llm) (8.1.8)\n",
      "Requirement already satisfied: setuptools in /u/bherr/workspaces/hubmap/hra-notebooks/.venv/lib/python3.10/site-packages (from llm) (59.6.0)\n",
      "Requirement already satisfied: sqlite-utils>=3.37 in /u/bherr/workspaces/hubmap/hra-notebooks/.venv/lib/python3.10/site-packages (from llm) (3.38)\n",
      "Requirement already satisfied: urllib3<3,>=1.21.1 in /u/bherr/workspaces/hubmap/hra-notebooks/.venv/lib/python3.10/site-packages (from requests) (2.0.7)\n",
      "Requirement already satisfied: idna<4,>=2.5 in /u/bherr/workspaces/hubmap/hra-notebooks/.venv/lib/python3.10/site-packages (from requests) (3.10)\n",
      "Requirement already satisfied: certifi>=2017.4.17 in /u/bherr/workspaces/hubmap/hra-notebooks/.venv/lib/python3.10/site-packages (from requests) (2024.8.30)\n",
      "Requirement already satisfied: charset-normalizer<4,>=2 in /u/bherr/workspaces/hubmap/hra-notebooks/.venv/lib/python3.10/site-packages (from requests) (3.4.0)\n",
      "Requirement already satisfied: httpx<1,>=0.23.0 in /u/bherr/workspaces/hubmap/hra-notebooks/.venv/lib/python3.10/site-packages (from openai>=1.55.3->llm) (0.28.1)\n",
      "Requirement already satisfied: anyio<5,>=3.5.0 in /u/bherr/workspaces/hubmap/hra-notebooks/.venv/lib/python3.10/site-packages (from openai>=1.55.3->llm) (4.8.0)\n",
      "Requirement already satisfied: distro<2,>=1.7.0 in /u/bherr/workspaces/hubmap/hra-notebooks/.venv/lib/python3.10/site-packages (from openai>=1.55.3->llm) (1.9.0)\n",
      "Requirement already satisfied: typing-extensions<5,>=4.11 in /u/bherr/workspaces/hubmap/hra-notebooks/.venv/lib/python3.10/site-packages (from openai>=1.55.3->llm) (4.12.2)\n",
      "Requirement already satisfied: jiter<1,>=0.4.0 in /u/bherr/workspaces/hubmap/hra-notebooks/.venv/lib/python3.10/site-packages (from openai>=1.55.3->llm) (0.8.2)\n",
      "Requirement already satisfied: tqdm>4 in /u/bherr/workspaces/hubmap/hra-notebooks/.venv/lib/python3.10/site-packages (from openai>=1.55.3->llm) (4.67.1)\n",
      "Requirement already satisfied: sniffio in /u/bherr/workspaces/hubmap/hra-notebooks/.venv/lib/python3.10/site-packages (from openai>=1.55.3->llm) (1.3.1)\n",
      "Requirement already satisfied: pydantic-core==2.23.4 in /u/bherr/workspaces/hubmap/hra-notebooks/.venv/lib/python3.10/site-packages (from pydantic>=1.10.2->llm) (2.23.4)\n",
      "Requirement already satisfied: annotated-types>=0.6.0 in /u/bherr/workspaces/hubmap/hra-notebooks/.venv/lib/python3.10/site-packages (from pydantic>=1.10.2->llm) (0.7.0)\n",
      "Requirement already satisfied: python-dateutil in /u/bherr/workspaces/hubmap/hra-notebooks/.venv/lib/python3.10/site-packages (from sqlite-utils>=3.37->llm) (2.9.0.post0)\n",
      "Requirement already satisfied: tabulate in /u/bherr/workspaces/hubmap/hra-notebooks/.venv/lib/python3.10/site-packages (from sqlite-utils>=3.37->llm) (0.9.0)\n",
      "Requirement already satisfied: sqlite-fts4 in /u/bherr/workspaces/hubmap/hra-notebooks/.venv/lib/python3.10/site-packages (from sqlite-utils>=3.37->llm) (1.0.3)\n",
      "Requirement already satisfied: exceptiongroup>=1.0.2 in /u/bherr/workspaces/hubmap/hra-notebooks/.venv/lib/python3.10/site-packages (from anyio<5,>=3.5.0->openai>=1.55.3->llm) (1.2.2)\n",
      "Requirement already satisfied: httpcore==1.* in /u/bherr/workspaces/hubmap/hra-notebooks/.venv/lib/python3.10/site-packages (from httpx<1,>=0.23.0->openai>=1.55.3->llm) (1.0.7)\n",
      "Requirement already satisfied: h11<0.15,>=0.13 in /u/bherr/workspaces/hubmap/hra-notebooks/.venv/lib/python3.10/site-packages (from httpcore==1.*->httpx<1,>=0.23.0->openai>=1.55.3->llm) (0.14.0)\n",
      "Requirement already satisfied: six>=1.5 in /u/bherr/workspaces/hubmap/hra-notebooks/.venv/lib/python3.10/site-packages (from python-dateutil->sqlite-utils>=3.37->llm) (1.16.0)\n",
      "Note: you may need to restart the kernel to use updated packages.\n",
      "Requirement already satisfied: llm-ollama in /u/bherr/workspaces/hubmap/hra-notebooks/.venv/lib/python3.10/site-packages (0.8.2)\n",
      "Requirement already satisfied: llm-sentence-transformers in /u/bherr/workspaces/hubmap/hra-notebooks/.venv/lib/python3.10/site-packages (0.2)\n",
      "Requirement already satisfied: ollama>=0.4 in /u/bherr/workspaces/hubmap/hra-notebooks/.venv/lib/python3.10/site-packages (from llm-ollama) (0.4.7)\n",
      "Requirement already satisfied: llm>=0.19 in /u/bherr/workspaces/hubmap/hra-notebooks/.venv/lib/python3.10/site-packages (from llm-ollama) (0.20)\n",
      "Requirement already satisfied: pydantic>=2 in /u/bherr/workspaces/hubmap/hra-notebooks/.venv/lib/python3.10/site-packages (from llm-ollama) (2.9.2)\n",
      "Requirement already satisfied: sentence-transformers>=2.3.0 in /u/bherr/workspaces/hubmap/hra-notebooks/.venv/lib/python3.10/site-packages (from llm-sentence-transformers) (3.4.1)\n",
      "Requirement already satisfied: pip in /u/bherr/workspaces/hubmap/hra-notebooks/.venv/lib/python3.10/site-packages (from llm>=0.19->llm-ollama) (22.0.2)\n",
      "Requirement already satisfied: python-ulid in /u/bherr/workspaces/hubmap/hra-notebooks/.venv/lib/python3.10/site-packages (from llm>=0.19->llm-ollama) (3.0.0)\n",
      "Requirement already satisfied: puremagic in /u/bherr/workspaces/hubmap/hra-notebooks/.venv/lib/python3.10/site-packages (from llm>=0.19->llm-ollama) (1.28)\n",
      "Requirement already satisfied: sqlite-utils>=3.37 in /u/bherr/workspaces/hubmap/hra-notebooks/.venv/lib/python3.10/site-packages (from llm>=0.19->llm-ollama) (3.38)\n",
      "Requirement already satisfied: click-default-group>=1.2.3 in /u/bherr/workspaces/hubmap/hra-notebooks/.venv/lib/python3.10/site-packages (from llm>=0.19->llm-ollama) (1.2.4)\n",
      "Requirement already satisfied: openai>=1.55.3 in /u/bherr/workspaces/hubmap/hra-notebooks/.venv/lib/python3.10/site-packages (from llm>=0.19->llm-ollama) (1.60.2)\n",
      "Requirement already satisfied: setuptools in /u/bherr/workspaces/hubmap/hra-notebooks/.venv/lib/python3.10/site-packages (from llm>=0.19->llm-ollama) (59.6.0)\n",
      "Requirement already satisfied: PyYAML in /u/bherr/workspaces/hubmap/hra-notebooks/.venv/lib/python3.10/site-packages (from llm>=0.19->llm-ollama) (6.0.2)\n",
      "Requirement already satisfied: click in /u/bherr/workspaces/hubmap/hra-notebooks/.venv/lib/python3.10/site-packages (from llm>=0.19->llm-ollama) (8.1.8)\n",
      "Requirement already satisfied: pluggy in /u/bherr/workspaces/hubmap/hra-notebooks/.venv/lib/python3.10/site-packages (from llm>=0.19->llm-ollama) (1.5.0)\n",
      "Requirement already satisfied: sqlite-migrate>=0.1a2 in /u/bherr/workspaces/hubmap/hra-notebooks/.venv/lib/python3.10/site-packages (from llm>=0.19->llm-ollama) (0.1b0)\n",
      "Requirement already satisfied: httpx<0.29,>=0.27 in /u/bherr/workspaces/hubmap/hra-notebooks/.venv/lib/python3.10/site-packages (from ollama>=0.4->llm-ollama) (0.28.1)\n",
      "Requirement already satisfied: annotated-types>=0.6.0 in /u/bherr/workspaces/hubmap/hra-notebooks/.venv/lib/python3.10/site-packages (from pydantic>=2->llm-ollama) (0.7.0)\n",
      "Requirement already satisfied: typing-extensions>=4.6.1 in /u/bherr/workspaces/hubmap/hra-notebooks/.venv/lib/python3.10/site-packages (from pydantic>=2->llm-ollama) (4.12.2)\n",
      "Requirement already satisfied: pydantic-core==2.23.4 in /u/bherr/workspaces/hubmap/hra-notebooks/.venv/lib/python3.10/site-packages (from pydantic>=2->llm-ollama) (2.23.4)\n",
      "Requirement already satisfied: tqdm in /u/bherr/workspaces/hubmap/hra-notebooks/.venv/lib/python3.10/site-packages (from sentence-transformers>=2.3.0->llm-sentence-transformers) (4.67.1)\n",
      "Requirement already satisfied: torch>=1.11.0 in /u/bherr/workspaces/hubmap/hra-notebooks/.venv/lib/python3.10/site-packages (from sentence-transformers>=2.3.0->llm-sentence-transformers) (2.5.1)\n",
      "Requirement already satisfied: huggingface-hub>=0.20.0 in /u/bherr/workspaces/hubmap/hra-notebooks/.venv/lib/python3.10/site-packages (from sentence-transformers>=2.3.0->llm-sentence-transformers) (0.28.0)\n",
      "Requirement already satisfied: scipy in /u/bherr/workspaces/hubmap/hra-notebooks/.venv/lib/python3.10/site-packages (from sentence-transformers>=2.3.0->llm-sentence-transformers) (1.15.1)\n",
      "Requirement already satisfied: scikit-learn in /u/bherr/workspaces/hubmap/hra-notebooks/.venv/lib/python3.10/site-packages (from sentence-transformers>=2.3.0->llm-sentence-transformers) (1.6.1)\n",
      "Requirement already satisfied: transformers<5.0.0,>=4.41.0 in /u/bherr/workspaces/hubmap/hra-notebooks/.venv/lib/python3.10/site-packages (from sentence-transformers>=2.3.0->llm-sentence-transformers) (4.48.1)\n",
      "Requirement already satisfied: Pillow in /u/bherr/workspaces/hubmap/hra-notebooks/.venv/lib/python3.10/site-packages (from sentence-transformers>=2.3.0->llm-sentence-transformers) (11.1.0)\n",
      "Requirement already satisfied: anyio in /u/bherr/workspaces/hubmap/hra-notebooks/.venv/lib/python3.10/site-packages (from httpx<0.29,>=0.27->ollama>=0.4->llm-ollama) (4.8.0)\n",
      "Requirement already satisfied: httpcore==1.* in /u/bherr/workspaces/hubmap/hra-notebooks/.venv/lib/python3.10/site-packages (from httpx<0.29,>=0.27->ollama>=0.4->llm-ollama) (1.0.7)\n",
      "Requirement already satisfied: idna in /u/bherr/workspaces/hubmap/hra-notebooks/.venv/lib/python3.10/site-packages (from httpx<0.29,>=0.27->ollama>=0.4->llm-ollama) (3.10)\n",
      "Requirement already satisfied: certifi in /u/bherr/workspaces/hubmap/hra-notebooks/.venv/lib/python3.10/site-packages (from httpx<0.29,>=0.27->ollama>=0.4->llm-ollama) (2024.8.30)\n",
      "Requirement already satisfied: h11<0.15,>=0.13 in /u/bherr/workspaces/hubmap/hra-notebooks/.venv/lib/python3.10/site-packages (from httpcore==1.*->httpx<0.29,>=0.27->ollama>=0.4->llm-ollama) (0.14.0)\n",
      "Requirement already satisfied: filelock in /u/bherr/workspaces/hubmap/hra-notebooks/.venv/lib/python3.10/site-packages (from huggingface-hub>=0.20.0->sentence-transformers>=2.3.0->llm-sentence-transformers) (3.17.0)\n",
      "Requirement already satisfied: packaging>=20.9 in /u/bherr/workspaces/hubmap/hra-notebooks/.venv/lib/python3.10/site-packages (from huggingface-hub>=0.20.0->sentence-transformers>=2.3.0->llm-sentence-transformers) (24.2)\n",
      "Requirement already satisfied: requests in /u/bherr/workspaces/hubmap/hra-notebooks/.venv/lib/python3.10/site-packages (from huggingface-hub>=0.20.0->sentence-transformers>=2.3.0->llm-sentence-transformers) (2.32.3)\n",
      "Requirement already satisfied: fsspec>=2023.5.0 in /u/bherr/workspaces/hubmap/hra-notebooks/.venv/lib/python3.10/site-packages (from huggingface-hub>=0.20.0->sentence-transformers>=2.3.0->llm-sentence-transformers) (2024.12.0)\n",
      "Requirement already satisfied: sniffio in /u/bherr/workspaces/hubmap/hra-notebooks/.venv/lib/python3.10/site-packages (from openai>=1.55.3->llm>=0.19->llm-ollama) (1.3.1)\n",
      "Requirement already satisfied: distro<2,>=1.7.0 in /u/bherr/workspaces/hubmap/hra-notebooks/.venv/lib/python3.10/site-packages (from openai>=1.55.3->llm>=0.19->llm-ollama) (1.9.0)\n",
      "Requirement already satisfied: jiter<1,>=0.4.0 in /u/bherr/workspaces/hubmap/hra-notebooks/.venv/lib/python3.10/site-packages (from openai>=1.55.3->llm>=0.19->llm-ollama) (0.8.2)\n",
      "Requirement already satisfied: tabulate in /u/bherr/workspaces/hubmap/hra-notebooks/.venv/lib/python3.10/site-packages (from sqlite-utils>=3.37->llm>=0.19->llm-ollama) (0.9.0)\n",
      "Requirement already satisfied: python-dateutil in /u/bherr/workspaces/hubmap/hra-notebooks/.venv/lib/python3.10/site-packages (from sqlite-utils>=3.37->llm>=0.19->llm-ollama) (2.9.0.post0)\n",
      "Requirement already satisfied: sqlite-fts4 in /u/bherr/workspaces/hubmap/hra-notebooks/.venv/lib/python3.10/site-packages (from sqlite-utils>=3.37->llm>=0.19->llm-ollama) (1.0.3)\n",
      "Requirement already satisfied: nvidia-cuda-runtime-cu12==12.4.127 in /u/bherr/workspaces/hubmap/hra-notebooks/.venv/lib/python3.10/site-packages (from torch>=1.11.0->sentence-transformers>=2.3.0->llm-sentence-transformers) (12.4.127)\n",
      "Requirement already satisfied: nvidia-nvtx-cu12==12.4.127 in /u/bherr/workspaces/hubmap/hra-notebooks/.venv/lib/python3.10/site-packages (from torch>=1.11.0->sentence-transformers>=2.3.0->llm-sentence-transformers) (12.4.127)\n",
      "Requirement already satisfied: nvidia-cusolver-cu12==11.6.1.9 in /u/bherr/workspaces/hubmap/hra-notebooks/.venv/lib/python3.10/site-packages (from torch>=1.11.0->sentence-transformers>=2.3.0->llm-sentence-transformers) (11.6.1.9)\n",
      "Requirement already satisfied: sympy==1.13.1 in /u/bherr/workspaces/hubmap/hra-notebooks/.venv/lib/python3.10/site-packages (from torch>=1.11.0->sentence-transformers>=2.3.0->llm-sentence-transformers) (1.13.1)\n",
      "Requirement already satisfied: nvidia-cusparse-cu12==12.3.1.170 in /u/bherr/workspaces/hubmap/hra-notebooks/.venv/lib/python3.10/site-packages (from torch>=1.11.0->sentence-transformers>=2.3.0->llm-sentence-transformers) (12.3.1.170)\n",
      "Requirement already satisfied: nvidia-nccl-cu12==2.21.5 in /u/bherr/workspaces/hubmap/hra-notebooks/.venv/lib/python3.10/site-packages (from torch>=1.11.0->sentence-transformers>=2.3.0->llm-sentence-transformers) (2.21.5)\n",
      "Requirement already satisfied: nvidia-cufft-cu12==11.2.1.3 in /u/bherr/workspaces/hubmap/hra-notebooks/.venv/lib/python3.10/site-packages (from torch>=1.11.0->sentence-transformers>=2.3.0->llm-sentence-transformers) (11.2.1.3)\n",
      "Requirement already satisfied: nvidia-cudnn-cu12==9.1.0.70 in /u/bherr/workspaces/hubmap/hra-notebooks/.venv/lib/python3.10/site-packages (from torch>=1.11.0->sentence-transformers>=2.3.0->llm-sentence-transformers) (9.1.0.70)\n",
      "Requirement already satisfied: nvidia-cuda-nvrtc-cu12==12.4.127 in /u/bherr/workspaces/hubmap/hra-notebooks/.venv/lib/python3.10/site-packages (from torch>=1.11.0->sentence-transformers>=2.3.0->llm-sentence-transformers) (12.4.127)\n",
      "Requirement already satisfied: networkx in /u/bherr/workspaces/hubmap/hra-notebooks/.venv/lib/python3.10/site-packages (from torch>=1.11.0->sentence-transformers>=2.3.0->llm-sentence-transformers) (3.4.2)\n",
      "Requirement already satisfied: jinja2 in /u/bherr/workspaces/hubmap/hra-notebooks/.venv/lib/python3.10/site-packages (from torch>=1.11.0->sentence-transformers>=2.3.0->llm-sentence-transformers) (3.1.5)\n",
      "Requirement already satisfied: triton==3.1.0 in /u/bherr/workspaces/hubmap/hra-notebooks/.venv/lib/python3.10/site-packages (from torch>=1.11.0->sentence-transformers>=2.3.0->llm-sentence-transformers) (3.1.0)\n",
      "Requirement already satisfied: nvidia-cublas-cu12==12.4.5.8 in /u/bherr/workspaces/hubmap/hra-notebooks/.venv/lib/python3.10/site-packages (from torch>=1.11.0->sentence-transformers>=2.3.0->llm-sentence-transformers) (12.4.5.8)\n",
      "Requirement already satisfied: nvidia-nvjitlink-cu12==12.4.127 in /u/bherr/workspaces/hubmap/hra-notebooks/.venv/lib/python3.10/site-packages (from torch>=1.11.0->sentence-transformers>=2.3.0->llm-sentence-transformers) (12.4.127)\n",
      "Requirement already satisfied: nvidia-cuda-cupti-cu12==12.4.127 in /u/bherr/workspaces/hubmap/hra-notebooks/.venv/lib/python3.10/site-packages (from torch>=1.11.0->sentence-transformers>=2.3.0->llm-sentence-transformers) (12.4.127)\n",
      "Requirement already satisfied: nvidia-curand-cu12==10.3.5.147 in /u/bherr/workspaces/hubmap/hra-notebooks/.venv/lib/python3.10/site-packages (from torch>=1.11.0->sentence-transformers>=2.3.0->llm-sentence-transformers) (10.3.5.147)\n",
      "Requirement already satisfied: mpmath<1.4,>=1.1.0 in /u/bherr/workspaces/hubmap/hra-notebooks/.venv/lib/python3.10/site-packages (from sympy==1.13.1->torch>=1.11.0->sentence-transformers>=2.3.0->llm-sentence-transformers) (1.3.0)\n",
      "Requirement already satisfied: safetensors>=0.4.1 in /u/bherr/workspaces/hubmap/hra-notebooks/.venv/lib/python3.10/site-packages (from transformers<5.0.0,>=4.41.0->sentence-transformers>=2.3.0->llm-sentence-transformers) (0.5.2)\n",
      "Requirement already satisfied: tokenizers<0.22,>=0.21 in /u/bherr/workspaces/hubmap/hra-notebooks/.venv/lib/python3.10/site-packages (from transformers<5.0.0,>=4.41.0->sentence-transformers>=2.3.0->llm-sentence-transformers) (0.21.0)\n",
      "Requirement already satisfied: regex!=2019.12.17 in /u/bherr/workspaces/hubmap/hra-notebooks/.venv/lib/python3.10/site-packages (from transformers<5.0.0,>=4.41.0->sentence-transformers>=2.3.0->llm-sentence-transformers) (2024.11.6)\n",
      "Requirement already satisfied: numpy>=1.17 in /u/bherr/workspaces/hubmap/hra-notebooks/.venv/lib/python3.10/site-packages (from transformers<5.0.0,>=4.41.0->sentence-transformers>=2.3.0->llm-sentence-transformers) (2.2.2)\n",
      "Requirement already satisfied: joblib>=1.2.0 in /u/bherr/workspaces/hubmap/hra-notebooks/.venv/lib/python3.10/site-packages (from scikit-learn->sentence-transformers>=2.3.0->llm-sentence-transformers) (1.4.2)\n",
      "Requirement already satisfied: threadpoolctl>=3.1.0 in /u/bherr/workspaces/hubmap/hra-notebooks/.venv/lib/python3.10/site-packages (from scikit-learn->sentence-transformers>=2.3.0->llm-sentence-transformers) (3.5.0)\n",
      "Requirement already satisfied: exceptiongroup>=1.0.2 in /u/bherr/workspaces/hubmap/hra-notebooks/.venv/lib/python3.10/site-packages (from anyio->httpx<0.29,>=0.27->ollama>=0.4->llm-ollama) (1.2.2)\n",
      "Requirement already satisfied: MarkupSafe>=2.0 in /u/bherr/workspaces/hubmap/hra-notebooks/.venv/lib/python3.10/site-packages (from jinja2->torch>=1.11.0->sentence-transformers>=2.3.0->llm-sentence-transformers) (3.0.2)\n",
      "Requirement already satisfied: six>=1.5 in /u/bherr/workspaces/hubmap/hra-notebooks/.venv/lib/python3.10/site-packages (from python-dateutil->sqlite-utils>=3.37->llm>=0.19->llm-ollama) (1.16.0)\n",
      "Requirement already satisfied: charset-normalizer<4,>=2 in /u/bherr/workspaces/hubmap/hra-notebooks/.venv/lib/python3.10/site-packages (from requests->huggingface-hub>=0.20.0->sentence-transformers>=2.3.0->llm-sentence-transformers) (3.4.0)\n",
      "Requirement already satisfied: urllib3<3,>=1.21.1 in /u/bherr/workspaces/hubmap/hra-notebooks/.venv/lib/python3.10/site-packages (from requests->huggingface-hub>=0.20.0->sentence-transformers>=2.3.0->llm-sentence-transformers) (2.0.7)\n",
      "Error: Model all-mpnet-base-v2 is already registered\n",
      "\u001b[?25lpulling manifest ⠋ \u001b[?25h\u001b[?25l\u001b[2K\u001b[1Gpulling manifest ⠙ \u001b[?25h\u001b[?25l\u001b[2K\u001b[1Gpulling manifest ⠹ \u001b[?25h\u001b[?25l\u001b[2K\u001b[1Gpulling manifest ⠸ \u001b[?25h\u001b[?25l\u001b[2K\u001b[1Gpulling manifest \n",
      "pulling dde5aa3fc5ff... 100% ▕████████████████▏ 2.0 GB                         \n",
      "pulling 966de95ca8a6... 100% ▕████████████████▏ 1.4 KB                         \n",
      "pulling fcc5a6bec9da... 100% ▕████████████████▏ 7.7 KB                         \n",
      "pulling a70ff7e570d9... 100% ▕████████████████▏ 6.0 KB                         \n",
      "pulling 56bb8bd477a5... 100% ▕████████████████▏   96 B                         \n",
      "pulling 34bb5ab01051... 100% ▕████████████████▏  561 B                         \n",
      "verifying sha256 digest \n",
      "writing manifest \n",
      "success \u001b[?25h\n"
     ]
    }
   ],
   "source": [
    "%pip install llm requests\n",
    "!llm install llm-ollama llm-sentence-transformers\n",
    "!llm sentence-transformers register {SENTENCE_TRANSFORMER}\n",
    "!ollama pull {LLM_MODEL}"
   ]
  },
  {
   "cell_type": "markdown",
   "metadata": {},
   "source": [
    "## Populate the Vector DB from HRA KG"
   ]
  },
  {
   "cell_type": "code",
   "execution_count": 3,
   "metadata": {},
   "outputs": [],
   "source": [
    "# Reusable functions\n",
    "\n",
    "import requests\n",
    "import csv\n",
    "from io import StringIO\n",
    "\n",
    "def sparql_select(query, endpoint=SPARQL_ENDPOINT):\n",
    "    content = requests.post(endpoint, {\"query\": query}, headers={\"Accept\": \"text/csv\"}).text\n",
    "    with StringIO(content) as csvText:\n",
    "        content = list(csv.DictReader(csvText))\n",
    "    return content"
   ]
  },
  {
   "cell_type": "code",
   "execution_count": 4,
   "metadata": {},
   "outputs": [
    {
     "name": "stdout",
     "output_type": "stream",
     "text": [
      "101 terms\n"
     ]
    },
    {
     "data": {
      "text/plain": [
       "[{'term': 'http://purl.obolibrary.org/obo/UBERON_0002113',\n",
       "  'name': 'kidney',\n",
       "  'aka': '',\n",
       "  'description': 'A paired organ of the urinary tract that produces urine and maintains bodily fluid homeostasis, blood pressure, pH levels, red blood cell production and skeleton mineralization.',\n",
       "  'relevance': '7.071067811865475E-1',\n",
       "  'rank': '1'},\n",
       " {'term': 'http://purl.obolibrary.org/obo/UBERON_0018115',\n",
       "  'name': 'left renal pelvis',\n",
       "  'aka': 'pelvis of left ureter; renal pelvis of left kidney',\n",
       "  'description': 'A renal pelvis that is part of a left ureter.',\n",
       "  'relevance': '6.18718433538229E-1',\n",
       "  'rank': '10'},\n",
       " {'term': 'http://purl.obolibrary.org/obo/UBERON_8410073',\n",
       "  'name': 'medullary region of kidney',\n",
       "  'aka': 'kidney medullary region',\n",
       "  'description': 'A part of the kidney that comprises kidney pyramids and renal columns.',\n",
       "  'relevance': '5.303300858899106E-1',\n",
       "  'rank': '37'}]"
      ]
     },
     "execution_count": 4,
     "metadata": {},
     "output_type": "execute_result"
    }
   ],
   "source": [
    "# Run SPARQL query in hra-rag-content.rq to get the text content to use in the vector DB\n",
    "\n",
    "query = open('hra-rag-content.rq', encoding='utf8').read()\n",
    "query = query.replace('kidney renal', HRA_KEYWORDS) # Replace the used in the default query\n",
    "results = sparql_select(query)\n",
    "print(len(results), \"terms\")\n",
    "results[:3]"
   ]
  },
  {
   "cell_type": "code",
   "execution_count": 5,
   "metadata": {},
   "outputs": [],
   "source": [
    "# Initialize collection to store HRA KG entries\n",
    "\n",
    "import llm\n",
    "\n",
    "embedding_model = llm.get_embedding_model(f\"sentence-transformers/{SENTENCE_TRANSFORMER}\")\n",
    "collection = llm.Collection(\"entries\", model=embedding_model)\n",
    "collection.embed_multi_with_metadata(\n",
    "  ( (meta['term'], f\"{meta['term']} \\\"{meta['name']}\\\"{(' also known as ' + meta['aka']) if meta['aka'] else ''} is {meta['description']}\", meta) for meta in results ),\n",
    "  store=True\n",
    ")"
   ]
  },
  {
   "cell_type": "code",
   "execution_count": 6,
   "metadata": {},
   "outputs": [
    {
     "name": "stdout",
     "output_type": "stream",
     "text": [
      "http://purl.obolibrary.org/obo/UBERON_0002113 0.6173296915413253 http://purl.obolibrary.org/obo/UBERON_0002113 \"kidney\" is A paired organ of the urinary tract that produces urine and maintains bodily fluid homeostasis, blood pressure, pH levels, red blood cell production and skeleton mineralization. {'term': 'http://purl.obolibrary.org/obo/UBERON_0002113', 'name': 'kidney', 'aka': '', 'description': 'A paired organ of the urinary tract that produces urine and maintains bodily fluid homeostasis, blood pressure, pH levels, red blood cell production and skeleton mineralization.', 'relevance': '7.071067811865475E-1', 'rank': '1'}\n",
      "http://purl.obolibrary.org/obo/UBERON_0004539 0.5577272825245365 http://purl.obolibrary.org/obo/UBERON_0004539 \"right kidney\" is A kidney that is part of a right side of organism [Automatically generated definition]. {'term': 'http://purl.obolibrary.org/obo/UBERON_0004539', 'name': 'right kidney', 'aka': '', 'description': 'A kidney that is part of a right side of organism [Automatically generated definition].', 'relevance': '4.4194173824159216E-1', 'rank': '105'}\n",
      "http://purl.obolibrary.org/obo/UBERON_0036295 0.5550858726671544 http://purl.obolibrary.org/obo/UBERON_0036295 \"renal pelvis/ureter\" also known as renal pelvis and ureter; renal pelvis plus ureter is The upper tract of the renal system. The renal pelvis is the large cavity in the middle of each kidney. Urine drains from each kidney through a long tube called the ureter, into the bladder, where it is stored until it is passed from the body through the urethra. {'term': 'http://purl.obolibrary.org/obo/UBERON_0036295', 'name': 'renal pelvis/ureter', 'aka': 'renal pelvis and ureter; renal pelvis plus ureter', 'description': 'The upper tract of the renal system. The renal pelvis is the large cavity in the middle of each kidney. Urine drains from each kidney through a long tube called the ureter, into the bladder, where it is stored until it is passed from the body through the urethra.', 'relevance': '3.5355339059327373E-1', 'rank': '863'}\n",
      "http://purl.obolibrary.org/obo/UBERON_0001224 0.5528655626955084 http://purl.obolibrary.org/obo/UBERON_0001224 \"renal pelvis\" also known as kidney pelvis; pelvis of ureter is A funnel shaped proximal portion of the ureter that is formed by convergence of the major calices [MP]. {'term': 'http://purl.obolibrary.org/obo/UBERON_0001224', 'name': 'renal pelvis', 'aka': 'kidney pelvis; pelvis of ureter', 'description': 'A funnel shaped proximal portion of the ureter that is formed by convergence of the major calices [MP].', 'relevance': '4.4194173824159216E-1', 'rank': '123'}\n",
      "http://purl.obolibrary.org/obo/CL_1000497 0.5517359757291298 http://purl.obolibrary.org/obo/CL_1000497 \"kidney cell\" is A cell that is part of a kidney. {'term': 'http://purl.obolibrary.org/obo/CL_1000497', 'name': 'kidney cell', 'aka': '', 'description': 'A cell that is part of a kidney.', 'relevance': '4.4194173824159216E-1', 'rank': '112'}\n",
      "http://purl.obolibrary.org/obo/UBERON_0004538 0.5457489902386848 http://purl.obolibrary.org/obo/UBERON_0004538 \"left kidney\" is A kidney that is part of a left side of organism [Automatically generated definition]. {'term': 'http://purl.obolibrary.org/obo/UBERON_0004538', 'name': 'left kidney', 'aka': '', 'description': 'A kidney that is part of a left side of organism [Automatically generated definition].', 'relevance': '4.4194173824159216E-1', 'rank': '98'}\n",
      "http://purl.obolibrary.org/obo/UBERON_0001225 0.5427157255635103 http://purl.obolibrary.org/obo/UBERON_0001225 \"cortex of kidney\" also known as kidney cortex; renal cortex; cortex renalis is Outer cortical portion of the kidney, between the renal capsule and the renal medulla. {'term': 'http://purl.obolibrary.org/obo/UBERON_0001225', 'name': 'cortex of kidney', 'aka': 'kidney cortex; renal cortex; cortex renalis', 'description': 'Outer cortical portion of the kidney, between the renal capsule and the renal medulla.', 'relevance': '4.4194173824159216E-1', 'rank': '95'}\n",
      "http://purl.obolibrary.org/obo/UBERON_0006544 0.5422023935794761 http://purl.obolibrary.org/obo/UBERON_0006544 \"kidney vasculature\" is A vasculature that is part of a kidney. {'term': 'http://purl.obolibrary.org/obo/UBERON_0006544', 'name': 'kidney vasculature', 'aka': '', 'description': 'A vasculature that is part of a kidney.', 'relevance': '4.4194173824159216E-1', 'rank': '157'}\n",
      "http://purl.obolibrary.org/obo/CL_1000505 0.5390482470162016 http://purl.obolibrary.org/obo/CL_1000505 \"kidney pelvis cell\" is A cell that is part of a renal pelvis. {'term': 'http://purl.obolibrary.org/obo/CL_1000505', 'name': 'kidney pelvis cell', 'aka': '', 'description': 'A cell that is part of a renal pelvis.', 'relevance': '3.5355339059327373E-1', 'rank': '601'}\n",
      "http://purl.obolibrary.org/obo/UBERON_0002189 0.5309774562270582 http://purl.obolibrary.org/obo/UBERON_0002189 \"outer cortex of kidney\" also known as kidney outer cortex; outer renal cortex is outer cortex of kidney {'term': 'http://purl.obolibrary.org/obo/UBERON_0002189', 'name': 'outer cortex of kidney', 'aka': 'kidney outer cortex; outer renal cortex', 'description': 'outer cortex of kidney', 'relevance': '3.5355339059327373E-1', 'rank': '487'}\n"
     ]
    }
   ],
   "source": [
    "# Test similarity search\n",
    "\n",
    "for entry in collection.similar(\"kidney\", number=10):\n",
    "    print(entry.id, entry.score, entry.content, entry.metadata)"
   ]
  },
  {
   "cell_type": "markdown",
   "metadata": {},
   "source": [
    "## Setup LLM"
   ]
  },
  {
   "cell_type": "code",
   "execution_count": 7,
   "metadata": {},
   "outputs": [],
   "source": [
    "# Initialize LLM for prompting\n",
    "\n",
    "import llm\n",
    "model = llm.get_model(LLM_MODEL)"
   ]
  },
  {
   "cell_type": "code",
   "execution_count": 8,
   "metadata": {},
   "outputs": [
    {
     "name": "stdout",
     "output_type": "stream",
     "text": [
      "The Human Reference Atlas is a special map that shows what a normal body looks like so doctors can compare to people who are sick or hurt!\n"
     ]
    }
   ],
   "source": [
    "# Test prompt\n",
    "\n",
    "response = model.prompt(\"What is the Human Reference Atlas (HRA)?\", system=\"Answer in one sentence like a five year old.\")\n",
    "print(response.text())"
   ]
  },
  {
   "cell_type": "markdown",
   "metadata": {},
   "source": [
    "## Setup RAG Prompt"
   ]
  },
  {
   "cell_type": "code",
   "execution_count": 9,
   "metadata": {},
   "outputs": [],
   "source": [
    "from IPython.display import Markdown\n",
    "\n",
    "def rag_prompt(prompt, system = DEFAULT_SYSTEM_PROMPT, debug = SHOW_DEBUG_INFO):\n",
    "    terms = [ f\"* {entry.content}\\n\" for entry in collection.similar(prompt, number=10) ]\n",
    "    if len(terms) > 0:\n",
    "        system = f\"{system}\\nContext:\\n{''.join(terms)}\"\n",
    "    response = model.prompt(prompt, system=system, stream = False)\n",
    "    if debug:\n",
    "        print(\"Prompt:\", prompt)\n",
    "        print(\"System Prompt:\", system)\n",
    "        print(\"Usage:\", response.usage())\n",
    "        # print(\"\\nResponse:\\n\")\n",
    "        # print(response.text())\n",
    "        display(Markdown(\"\\n**Response:**\\n\\n\" + response.text()))\n",
    "    return response"
   ]
  },
  {
   "cell_type": "markdown",
   "metadata": {},
   "source": [
    "## Prompts\n",
    "\n",
    "### Prompt: How many calesces are in the kidney?"
   ]
  },
  {
   "cell_type": "code",
   "execution_count": 10,
   "metadata": {},
   "outputs": [
    {
     "name": "stdout",
     "output_type": "stream",
     "text": [
      "Prompt: How many calesces are in the kidney?\n",
      "System Prompt: Answer in one sentence like a good friend.\n",
      "Context:\n",
      "* http://purl.obolibrary.org/obo/UBERON_0006517 \"kidney calyx\" also known as calices renales; renal calix; renal calyx is Recesses of the kidney pelvis which divides into two wide, cup-shaped major renal calices, with each major calix subdivided into 7 to 14 minor calices. Urine empties into a minor calix from collecting tubules, then passes through the major calix, renal pelvis, and ureter to enter the urinary bladder. (From Moore, Clinically Oriented Anatomy, 3d ed, p211).\n",
      "* http://purl.obolibrary.org/obo/CL_0002681 \"kidney cortical cell\" is A cell that is part of a cortex of kidney.\n",
      "* http://purl.obolibrary.org/obo/UBERON_0001227 \"minor calyx\" also known as calices renales minores; minor calix is Portion of the urinary collecting system within the kidney that drains one renal papilla.\n",
      "* http://purl.obolibrary.org/obo/CL_1000505 \"kidney pelvis cell\" is A cell that is part of a renal pelvis.\n",
      "* http://purl.obolibrary.org/obo/CL_1000497 \"kidney cell\" is A cell that is part of a kidney.\n",
      "* http://purl.obolibrary.org/obo/UBERON_0002113 \"kidney\" is A paired organ of the urinary tract that produces urine and maintains bodily fluid homeostasis, blood pressure, pH levels, red blood cell production and skeleton mineralization.\n",
      "* http://purl.obolibrary.org/obo/CL_1000500 \"kidney interstitial cell\" is A cell that is part of kidney interstitium.\n",
      "* http://purl.obolibrary.org/obo/UBERON_0036295 \"renal pelvis/ureter\" also known as renal pelvis and ureter; renal pelvis plus ureter is The upper tract of the renal system. The renal pelvis is the large cavity in the middle of each kidney. Urine drains from each kidney through a long tube called the ureter, into the bladder, where it is stored until it is passed from the body through the urethra.\n",
      "* http://purl.obolibrary.org/obo/UBERON_0001224 \"renal pelvis\" also known as kidney pelvis; pelvis of ureter is A funnel shaped proximal portion of the ureter that is formed by convergence of the major calices [MP].\n",
      "* http://purl.obolibrary.org/obo/UBERON_0005215 \"kidney interstitium\" also known as interstitial tissue of kidney; renal interstitial tissue; renal interstitium; renal stroma; stroma of kidney is The interstitial compartment of the kidney, comprising the extravascular intertubular spaces of the renal parenchyma, with their attendant cellular elements and extracellular substances, bounded on all sides by epithelial and vascular basement membranes.\n",
      "\n",
      "Usage: Usage(input=695, output=74, details=None)\n"
     ]
    },
    {
     "data": {
      "text/markdown": [
       "\n",
       "**Response:**\n",
       "\n",
       "There's a bit of complexity here. There are two major calices that are part of the kidney, each subdivided into 7 to 14 minor calices (also known as renal calices minores), which ultimately drain urine from individual renal papillae. So, in total, there are approximately 8-28 minor calices within each kidney!"
      ],
      "text/plain": [
       "<IPython.core.display.Markdown object>"
      ]
     },
     "metadata": {},
     "output_type": "display_data"
    }
   ],
   "source": [
    "response = rag_prompt(\"How many calesces are in the kidney?\")"
   ]
  },
  {
   "cell_type": "markdown",
   "metadata": {},
   "source": [
    "### Prompt: What is the UBERON term for 'renal calyx'?"
   ]
  },
  {
   "cell_type": "code",
   "execution_count": 11,
   "metadata": {},
   "outputs": [
    {
     "name": "stdout",
     "output_type": "stream",
     "text": [
      "Prompt: What is the UBERON term for 'renal calyx'?\n",
      "System Prompt: Answer in one sentence like a good friend.\n",
      "Context:\n",
      "* http://purl.obolibrary.org/obo/UBERON_0001227 \"minor calyx\" also known as calices renales minores; minor calix is Portion of the urinary collecting system within the kidney that drains one renal papilla.\n",
      "* http://purl.obolibrary.org/obo/UBERON_0006517 \"kidney calyx\" also known as calices renales; renal calix; renal calyx is Recesses of the kidney pelvis which divides into two wide, cup-shaped major renal calices, with each major calix subdivided into 7 to 14 minor calices. Urine empties into a minor calix from collecting tubules, then passes through the major calix, renal pelvis, and ureter to enter the urinary bladder. (From Moore, Clinically Oriented Anatomy, 3d ed, p211).\n",
      "* http://purl.obolibrary.org/obo/UBERON_0001228 \"renal papilla\" also known as kidney papilla is Tip of renal pyramid projecting into a minor calyx.\n",
      "* http://purl.obolibrary.org/obo/UBERON_0001224 \"renal pelvis\" also known as kidney pelvis; pelvis of ureter is A funnel shaped proximal portion of the ureter that is formed by convergence of the major calices [MP].\n",
      "* http://purl.obolibrary.org/obo/UBERON_0002189 \"outer cortex of kidney\" also known as kidney outer cortex; outer renal cortex is outer cortex of kidney\n",
      "* http://purl.obolibrary.org/obo/UBERON_0005215 \"kidney interstitium\" also known as interstitial tissue of kidney; renal interstitial tissue; renal interstitium; renal stroma; stroma of kidney is The interstitial compartment of the kidney, comprising the extravascular intertubular spaces of the renal parenchyma, with their attendant cellular elements and extracellular substances, bounded on all sides by epithelial and vascular basement membranes.\n",
      "* http://purl.obolibrary.org/obo/UBERON_0000362 \"renal medulla\" also known as kidney medulla; medulla of kidney; medulla renalis; pyramides renales; renal medullae; renal medullae set; renal pyramids; renal pyramids set is The inner portion of the kidney consisting of the renal pyramids.\n",
      "* http://purl.obolibrary.org/obo/UBERON_0001229 \"renal corpuscle\" also known as Malpighian corpuscle; corpusculum renale; Malphigian corpuscle is The structure containing the glomerular capsule and the glomerulus that serves as the initial blood-filtering component of a nephron.\n",
      "* http://purl.obolibrary.org/obo/CL_1000505 \"kidney pelvis cell\" is A cell that is part of a renal pelvis.\n",
      "* http://purl.obolibrary.org/obo/UBERON_0001284 \"renal column\" also known as column of Bertini; kidney column; renal column of Bertini; renal cortical column; columna Bertini is A column of tissue that is histologically identical to tissue found in the renal cortex, and which is located in the medullary region of kidney, between the renal pyramids.\n",
      "\n",
      "Usage: Usage(input=757, output=31, details=None)\n"
     ]
    },
    {
     "data": {
      "text/markdown": [
       "\n",
       "**Response:**\n",
       "\n",
       "The UBERON term for \"renal calyx\" (also known as calices renales) is UBERON_0006517."
      ],
      "text/plain": [
       "<IPython.core.display.Markdown object>"
      ]
     },
     "metadata": {},
     "output_type": "display_data"
    }
   ],
   "source": [
    "response = rag_prompt(\"What is the UBERON term for 'renal calyx'?\")"
   ]
  },
  {
   "cell_type": "markdown",
   "metadata": {},
   "source": [
    "### Prompt: What kind of cells occur in the 'kidney calyx'?"
   ]
  },
  {
   "cell_type": "code",
   "execution_count": 12,
   "metadata": {},
   "outputs": [
    {
     "name": "stdout",
     "output_type": "stream",
     "text": [
      "Prompt: What kind of cells occur in the 'renal calyx'?\n",
      "System Prompt: Include references to Cell Ontology (http://purl.obolibrary.org/obo/CL_xxx) and UBERON (http://purl.obolibrary.org/obo/UBERON_xxx) where possible.\n",
      "Context:\n",
      "* http://purl.obolibrary.org/obo/UBERON_0006517 \"kidney calyx\" also known as calices renales; renal calix; renal calyx is Recesses of the kidney pelvis which divides into two wide, cup-shaped major renal calices, with each major calix subdivided into 7 to 14 minor calices. Urine empties into a minor calix from collecting tubules, then passes through the major calix, renal pelvis, and ureter to enter the urinary bladder. (From Moore, Clinically Oriented Anatomy, 3d ed, p211).\n",
      "* http://purl.obolibrary.org/obo/CL_1000505 \"kidney pelvis cell\" is A cell that is part of a renal pelvis.\n",
      "* http://purl.obolibrary.org/obo/UBERON_0001227 \"minor calyx\" also known as calices renales minores; minor calix is Portion of the urinary collecting system within the kidney that drains one renal papilla.\n",
      "* http://purl.obolibrary.org/obo/CL_0005009 \"renal principal cell\" is A cuboidal epithelial cell of the kidney which regulates sodium and potassium balance. The activity of sodium and potassium channels on the apical membrane of the cell is regulated by aldosterone and vasopressin. In mammals this cell type is located in the renal collecting duct system.\n",
      "* http://purl.obolibrary.org/obo/CL_1000500 \"kidney interstitial cell\" is A cell that is part of kidney interstitium.\n",
      "* http://purl.obolibrary.org/obo/CL_0000650 \"mesangial cell\" is A cell type that encapsulates the capillaries and venules in the kidney. This cell secretes mesangial matrix that provides the structural support for the capillaries.\n",
      "* http://purl.obolibrary.org/obo/CL_0002681 \"kidney cortical cell\" is A cell that is part of a cortex of kidney.\n",
      "* http://purl.obolibrary.org/obo/CL_1000497 \"kidney cell\" is A cell that is part of a kidney.\n",
      "* http://purl.obolibrary.org/obo/CL_0000648 \"kidney granular cell\" is A smooth muscle cell that synthesizes, stores, and secretes the enzyme renin. This cell type are located in the wall of the afferent arteriole at the entrance to the glomerulus. While having a different origin than other kidney smooth muscle cells, this cell type expresses smooth muscle actin upon maturation.\n",
      "* http://purl.obolibrary.org/obo/CL_0002584 \"renal cortical epithelial cell\" is An epithelial cell of the kidney cortex.\n",
      "\n",
      "Usage: Usage(input=680, output=270, details=None)\n"
     ]
    },
    {
     "data": {
      "text/markdown": [
       "\n",
       "**Response:**\n",
       "\n",
       "The renal calyx, a recess of the kidney pelvis that divides into two wide, cup-shaped major renal calices, contains various types of cells. According to the Cell Ontology (CL), the following cell types can be found within the renal calyx:\n",
       "\n",
       "* Kidney cortical cell (CL_0002681): This is a general term for a cell located in the cortex of the kidney, which includes the renal calyx.\n",
       "* Minor calyx epithelial cell: Although not explicitly stated as an individual CL ID, minor calix are composed of epithelial cells that secrete and modify urine before it flows into the ureter. The Cell Ontology does not specifically mention a separate \"minor calyx epithelial cell\" but rather refers to it as part of the general term \"renal cortical epithelial cell\" (CL_0002584).\n",
       "\n",
       "Please note that the specific cell types present in the renal calyx may vary depending on the source and the particular aspect being studied.\n",
       "\n",
       "According to UBERON, a hierarchical ontology for the cellular and molecular biology of organisms, minor calix are composed of:\n",
       "\n",
       "* Minor calyces (UBERON_0001227)\n",
       "\t+ Minor calyx epithelial cells\n",
       "\n",
       "Please consult the relevant UBERON references for further details on the specific cell types found in the renal calyx."
      ],
      "text/plain": [
       "<IPython.core.display.Markdown object>"
      ]
     },
     "metadata": {},
     "output_type": "display_data"
    }
   ],
   "source": [
    "system = \"Include references to Cell Ontology (http://purl.obolibrary.org/obo/CL_xxx) and UBERON (http://purl.obolibrary.org/obo/UBERON_xxx) where possible.\"\n",
    "response = rag_prompt(\"What kind of cells occur in the 'renal calyx'?\", system)"
   ]
  }
 ],
 "metadata": {
  "kernelspec": {
   "display_name": ".venv",
   "language": "python",
   "name": "python3"
  },
  "language_info": {
   "codemirror_mode": {
    "name": "ipython",
    "version": 3
   },
   "file_extension": ".py",
   "mimetype": "text/x-python",
   "name": "python",
   "nbconvert_exporter": "python",
   "pygments_lexer": "ipython3",
   "version": "3.10.12"
  }
 },
 "nbformat": 4,
 "nbformat_minor": 2
}
