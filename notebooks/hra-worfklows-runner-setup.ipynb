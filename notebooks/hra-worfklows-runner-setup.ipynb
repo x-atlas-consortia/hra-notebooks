{
 "cells": [
  {
   "cell_type": "markdown",
   "metadata": {},
   "source": [
    "# HRA Workflows Usage\n",
    "\n",
    "This notebook shows how to use the HRA Workflows algorithms to run cell type annotation tools over sc/snRNASeq data in h5ad format"
   ]
  },
  {
   "cell_type": "markdown",
   "metadata": {},
   "source": [
    "## Install pre-requisites\n",
    "\n",
    "For this notebook, we require `singularity` to be installed on the machine (See the [user guide](https://docs.sylabs.io/guides/latest/user-guide/quick_start.html)) and a few python packages."
   ]
  },
  {
   "cell_type": "code",
   "execution_count": null,
   "metadata": {},
   "outputs": [],
   "source": [
    "%pip install cwltool cwlref-runner requests"
   ]
  },
  {
   "cell_type": "markdown",
   "metadata": {},
   "source": [
    "## Imports"
   ]
  },
  {
   "cell_type": "code",
   "execution_count": null,
   "metadata": {},
   "outputs": [],
   "source": [
    "from cwltool.main import main as cwl_main\n",
    "import tempfile\n",
    "import json\n",
    "import os.path\n",
    "import requests"
   ]
  },
  {
   "cell_type": "markdown",
   "metadata": {},
   "source": [
    "## Functions\n",
    "\n",
    "We create some helper functions to simplify running cwl workflows from python."
   ]
  },
  {
   "cell_type": "code",
   "execution_count": null,
   "metadata": {},
   "outputs": [],
   "source": [
    "USE_SINGULARITY = True # Set to False to use Docker\n",
    "\n",
    "def cwlrunner(workflow, job = None, output_dir = \".\"):\n",
    "    \"\"\"\n",
    "    Runs a CWL (Common Workflow Language) workflow using Singularity.\n",
    "\n",
    "    Parameters:\n",
    "    workflow (str): The path or URL to the CWL workflow file.\n",
    "    job (dict, optional): A dictionary representing the job inputs, if any.\n",
    "    output_dir (str, optional): The path to a directory the outputs will go into. Default is current directory.\n",
    "\n",
    "    Example:\n",
    "    >>> cwlrunner('path/to/workflow.cwl', {'input1': 'value1', 'input2': 'value2'})\n",
    "    \"\"\"\n",
    "    base_args = ['--singularity'] if USE_SINGULARITY else []\n",
    "    if not job:\n",
    "        cwl_main(base_args + ['--outdir', output_dir, workflow])\n",
    "    else:\n",
    "        with tempfile.NamedTemporaryFile(mode=\"w+t\", dir=\".\", suffix=\".json\") as job_file:\n",
    "            job_file.write(json.dumps(job))\n",
    "            job_file.flush()\n",
    "            cwl_main(['--outdir', output_dir, workflow, job_file.name])\n",
    "\n",
    "def download_hra_workflows_models(output_dir = \".\"):\n",
    "    cwlrunner(\"https://raw.githubusercontent.com/hubmapconsortium/hra-workflows/main/download-models.cwl\", output_dir = output_dir)\n",
    "\n",
    "def run_hra_workflows(job, output_dir = \".\"):\n",
    "    cwlrunner(\"https://raw.githubusercontent.com/hubmapconsortium/hra-workflows/main/pipeline.cwl\", job, output_dir)"
   ]
  },
  {
   "cell_type": "code",
   "execution_count": null,
   "metadata": {},
   "outputs": [],
   "source": [
    "# Function to run all cell type annotation tools from HRA Workflows on a given h5ad file\n",
    "\n",
    "def run_all_hra_workflows(h5ad_path, dataset_id, organ_id, output_dir, queryLayersKey=\"raw\"):\n",
    "    job = {\n",
    "        \"organ\": organ_id,\n",
    "        \"matrix\": {\"class\": \"File\", \"path\": os.path.abspath(h5ad_path)},\n",
    "        \"algorithms\": [\n",
    "            {\n",
    "                \"azimuth\": {\n",
    "                    \"referenceDataDir\": {\n",
    "                        \"class\": \"Directory\",\n",
    "                        \"path\": os.path.abspath(\"data/hwr/models/azimuth\"),\n",
    "                    },\n",
    "                    \"queryLayersKey\": queryLayersKey,\n",
    "                },\n",
    "                \"crosswalk\": {\n",
    "                    \"table\": {\n",
    "                        \"class\": \"File\",\n",
    "                        \"path\": os.path.abspath(\"data/hwr/crosswalks/azimuth.csv\"),\n",
    "                    },\n",
    "                    \"tableLabelColumn\": \"Annotation_Label\",\n",
    "                    \"tableClidColumn\": \"CL_ID\",\n",
    "                    \"tableMatchColumn\": \"CL_Match\",\n",
    "                },\n",
    "                \"summarize\": {\"annotationMethod\": \"azimuth\", \"cellSource\": dataset_id},\n",
    "                \"directory\": \"azimuth\",\n",
    "            },\n",
    "            {\n",
    "                \"celltypist\": {\"queryLayersKey\": queryLayersKey},\n",
    "                \"crosswalk\": {\n",
    "                    \"table\": {\n",
    "                        \"class\": \"File\",\n",
    "                        \"path\": os.path.abspath(\"data/hwr/crosswalks/celltypist.csv\"),\n",
    "                    },\n",
    "                    \"tableLabelColumn\": \"Annotation_Label\",\n",
    "                    \"tableClidColumn\": \"CL_ID\",\n",
    "                    \"tableMatchColumn\": \"CL_Match\",\n",
    "                },\n",
    "                \"summarize\": {\n",
    "                    \"annotationMethod\": \"celltypist\",\n",
    "                    \"cellSource\": dataset_id,\n",
    "                },\n",
    "                \"directory\": \"celltypist\",\n",
    "            },\n",
    "            {\n",
    "                \"popv\": {\n",
    "                    \"referenceDataDir\": {\n",
    "                        \"class\": \"Directory\",\n",
    "                        \"path\": os.path.abspath(\"data/hwr/models/popv/reference-data\"),\n",
    "                    },\n",
    "                    \"modelsDir\": {\n",
    "                        \"class\": \"Directory\",\n",
    "                        \"path\": os.path.abspath(\"data/hwr/models/popv/models\"),\n",
    "                    },\n",
    "                    \"queryLayersKey\": queryLayersKey,\n",
    "                },\n",
    "                \"crosswalk\": {\n",
    "                    \"table\": {\n",
    "                        \"class\": \"File\",\n",
    "                        \"path\": os.path.abspath(\"data/hwr/crosswalks/popv.csv\"),\n",
    "                    },\n",
    "                    \"tableLabelColumn\": \"Annotation_Label\",\n",
    "                    \"tableClidColumn\": \"CL_ID\",\n",
    "                    \"tableMatchColumn\": \"CL_Match\",\n",
    "                },\n",
    "                \"summarize\": {\"annotationMethod\": \"popv\", \"cellSource\": dataset_id},\n",
    "                \"directory\": \"popv\",\n",
    "            },\n",
    "        ],\n",
    "    }\n",
    "\n",
    "    run_hra_workflows(job, os.path.abspath(output_dir))"
   ]
  },
  {
   "cell_type": "code",
   "execution_count": null,
   "metadata": {},
   "outputs": [],
   "source": [
    "# Helper function to get the organ ontology id for a given hubmap dataset\n",
    "\n",
    "hbm_organ_lookup_url = \"https://ontology.api.hubmapconsortium.org/organs?application_context=HUBMAP\"\n",
    "hbm_organ_lookup = dict( (x[\"rui_code\"], x[\"organ_uberon\"]) for x in json.loads(requests.get(hbm_organ_lookup_url).content))\n",
    "\n",
    "def get_hubmap_organ(uuid):\n",
    "    ancestors = requests.get(f\"https://entity.api.hubmapconsortium.org/entities/{uuid}/ancestor-organs\").json()\n",
    "    for parent in ancestors:\n",
    "        if parent.get(\"sample_category\") == \"organ\" and parent[\"organ\"] in hbm_organ_lookup:\n",
    "            return hbm_organ_lookup[parent[\"organ\"]]"
   ]
  },
  {
   "cell_type": "code",
   "execution_count": null,
   "metadata": {},
   "outputs": [],
   "source": [
    "# Download HRA Workflows Runner data\n",
    "\n",
    "if not os.path.exists('data/hwr/crosswalks'):\n",
    "    !mkdir -p data/hwr/crosswalks\n",
    "    !curl -o data/hwr/crosswalks/azimuth.csv https://cdn.humanatlas.io/digital-objects/ctann/azimuth/latest/assets/azimuth-crosswalk.csv\n",
    "    !curl -o data/hwr/crosswalks/celltypist.csv https://cdn.humanatlas.io/digital-objects/ctann/celltypist/latest/assets/celltypist-crosswalk.csv\n",
    "    !curl -o data/hwr/crosswalks/popv.csv https://cdn.humanatlas.io/digital-objects/ctann/popv/latest/assets/popv-crosswalk.csv\n",
    "\n",
    "if not os.path.exists('data/hwr/models'):\n",
    "    download_hra_workflows_models('data/hwr')"
   ]
  }
 ],
 "metadata": {
  "kernelspec": {
   "display_name": ".venv",
   "language": "python",
   "name": "python3"
  },
  "language_info": {
   "codemirror_mode": {
    "name": "ipython",
    "version": 3
   },
   "file_extension": ".py",
   "mimetype": "text/x-python",
   "name": "python",
   "nbconvert_exporter": "python",
   "pygments_lexer": "ipython3",
   "version": "3.10.12"
  }
 },
 "nbformat": 4,
 "nbformat_minor": 2
}
