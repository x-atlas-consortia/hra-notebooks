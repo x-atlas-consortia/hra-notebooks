{
 "cells": [
  {
   "cell_type": "markdown",
   "metadata": {},
   "source": [
    "# What Digital Objects are available for my favorite AS or CT?"
   ]
  },
  {
   "cell_type": "markdown",
   "metadata": {},
   "source": [
    "## Constants to tweak\n",
    "\n",
    "Tweak the ONTOLOGY_ID with your favorite CL or UBERON term. Some examples provided, but others should work just fine."
   ]
  },
  {
   "cell_type": "code",
   "execution_count": 2,
   "metadata": {},
   "outputs": [],
   "source": [
    "ONTOLOGY_ID=\"UBERON:0002113\" # Kidney\n",
    "# ONTOLOGY_ID=\"CL:1000497\" # Kidney Cell\n",
    "# ONTOLOGY_ID=\"UBERON:0000948\" # Heart\n",
    "# ONTOLOGY_ID=\"CL:0000182\" # Hepatocyte\n",
    "\n",
    "SPARQL_ENDPOINT=\"https://lod.humanatlas.io/sparql\""
   ]
  },
  {
   "cell_type": "code",
   "execution_count": 3,
   "metadata": {},
   "outputs": [
    {
     "name": "stdout",
     "output_type": "stream",
     "text": [
      "Requirement already satisfied: requests in /u/bherr/workspaces/hubmap/hra-notebooks/.venv/lib/python3.10/site-packages (2.32.3)\n",
      "Requirement already satisfied: idna<4,>=2.5 in /u/bherr/workspaces/hubmap/hra-notebooks/.venv/lib/python3.10/site-packages (from requests) (3.10)\n",
      "Requirement already satisfied: charset-normalizer<4,>=2 in /u/bherr/workspaces/hubmap/hra-notebooks/.venv/lib/python3.10/site-packages (from requests) (3.4.0)\n",
      "Requirement already satisfied: urllib3<3,>=1.21.1 in /u/bherr/workspaces/hubmap/hra-notebooks/.venv/lib/python3.10/site-packages (from requests) (2.0.7)\n",
      "Requirement already satisfied: certifi>=2017.4.17 in /u/bherr/workspaces/hubmap/hra-notebooks/.venv/lib/python3.10/site-packages (from requests) (2024.8.30)\n",
      "Note: you may need to restart the kernel to use updated packages.\n"
     ]
    }
   ],
   "source": [
    "%pip install requests"
   ]
  },
  {
   "cell_type": "markdown",
   "metadata": {},
   "source": [
    "## Reusable functions"
   ]
  },
  {
   "cell_type": "code",
   "execution_count": 4,
   "metadata": {},
   "outputs": [],
   "source": [
    "import requests\n",
    "import csv\n",
    "from io import StringIO\n",
    "\n",
    "def sparql_select(query, endpoint=SPARQL_ENDPOINT):\n",
    "    content = requests.post(endpoint, {\"query\": query}, headers={\"Accept\": \"text/csv\"}).text\n",
    "    with StringIO(content) as csvText:\n",
    "        content = list(csv.DictReader(csvText))\n",
    "    return content"
   ]
  },
  {
   "cell_type": "code",
   "execution_count": 5,
   "metadata": {},
   "outputs": [],
   "source": [
    "def get_digital_objects(ontology_id):\n",
    "    # Find all graphs (digital objects) that have the given term IRI\n",
    "\n",
    "    # Transform CURIE to IRI (we'll use this from here on out for queries)\n",
    "    iri=ontology_id.replace(\"UBERON:\", \"http://purl.obolibrary.org/obo/UBERON_\").replace(\"CL:\", \"http://purl.obolibrary.org/obo/CL_\")\n",
    "\n",
    "    results = sparql_select(\n",
    "    f\"\"\"\n",
    "    SELECT DISTINCT ?g \n",
    "    WHERE {{\n",
    "    GRAPH ?g {{\n",
    "        {{ <{iri}> ?p1 [] . }} \n",
    "        UNION\n",
    "        {{ [] ?p2 <{iri}> . }}\n",
    "    }}\n",
    "    FILTER (!STRENDS(STR(?g), '/redundant'))\n",
    "    }}\n",
    "    \"\"\")\n",
    "    return results\n"
   ]
  },
  {
   "cell_type": "markdown",
   "metadata": {},
   "source": [
    "## Find digital objects!"
   ]
  },
  {
   "cell_type": "code",
   "execution_count": 6,
   "metadata": {},
   "outputs": [
    {
     "name": "stdout",
     "output_type": "stream",
     "text": [
      "UBERON:0002113 occurs in 48 digital objects\n"
     ]
    },
    {
     "data": {
      "text/plain": [
       "['https://purl.humanatlas.io/vocab/uberon',\n",
       " 'https://purl.humanatlas.io/2d-ftu/kidney-renal-corpuscle',\n",
       " 'https://purl.humanatlas.io/2d-ftu/kidney-thick-ascending-loop-of-henle',\n",
       " 'https://purl.humanatlas.io/collection/hra-ols',\n",
       " 'https://purl.humanatlas.io/collection/hra-api',\n",
       " 'https://purl.humanatlas.io/collection/hra',\n",
       " 'https://purl.humanatlas.io/asct-b/kidney',\n",
       " 'https://purl.humanatlas.io/asct-b/anatomical-systems',\n",
       " 'https://purl.humanatlas.io/collection/hra/v1.0',\n",
       " 'https://purl.humanatlas.io/collection/hra/v1.1',\n",
       " 'https://purl.humanatlas.io/collection/hra/v1.2',\n",
       " 'https://purl.humanatlas.io/collection/hra/v1.3',\n",
       " 'https://purl.humanatlas.io/collection/hra/v1.4',\n",
       " 'https://purl.humanatlas.io/collection/hra/v2.0',\n",
       " 'https://purl.humanatlas.io/collection/hra/v2.1',\n",
       " 'https://purl.humanatlas.io/collection/hra/v2.2',\n",
       " 'https://purl.humanatlas.io/ref-organ/united-male',\n",
       " 'https://purl.humanatlas.io/ref-organ/united-female',\n",
       " 'https://purl.humanatlas.io/ref-organ/renal-pelvis-male-right',\n",
       " 'https://purl.humanatlas.io/ref-organ/renal-pelvis-male-left',\n",
       " 'https://purl.humanatlas.io/ref-organ/renal-pelvis-female-right',\n",
       " 'https://purl.humanatlas.io/ref-organ/renal-pelvis-female-left',\n",
       " 'https://purl.humanatlas.io/ref-organ/kidney-male-right',\n",
       " 'https://purl.humanatlas.io/ref-organ/kidney-male-left',\n",
       " 'https://purl.humanatlas.io/ref-organ/kidney-female-right',\n",
       " 'https://purl.humanatlas.io/ref-organ/kidney-female-left',\n",
       " 'https://purl.humanatlas.io/omap/9-kidney-codex',\n",
       " 'https://purl.humanatlas.io/omap/3-kidney-codex',\n",
       " 'https://purl.humanatlas.io/omap/20-kidney-ims-cycif',\n",
       " 'https://purl.humanatlas.io/omap/14-kidney-cycif',\n",
       " 'https://purl.humanatlas.io/2d-ftu/kidney-ascending-thin-loop-of-henle',\n",
       " 'https://purl.humanatlas.io/2d-ftu/kidney-cortical-collecting-duct',\n",
       " 'https://purl.humanatlas.io/2d-ftu/kidney-descending-thin-loop-of-henle',\n",
       " 'https://purl.humanatlas.io/2d-ftu/kidney-inner-medullary-collecting-duct',\n",
       " 'https://purl.humanatlas.io/2d-ftu/kidney-nephron',\n",
       " 'https://purl.humanatlas.io/2d-ftu/kidney-outer-medullary-collecting-duct',\n",
       " 'https://purl.humanatlas.io/graph/ccf',\n",
       " 'https://purl.org/ccf/releases/2.2.1/ccf.owl',\n",
       " 'https://purl.org/ccf/ccf.owl',\n",
       " 'https://purl.humanatlas.io/vocab/cl',\n",
       " 'https://purl.humanatlas.io/graph/hra-pop',\n",
       " 'https://purl.humanatlas.io/graph/ctann-crosswalks',\n",
       " 'https://purl.humanatlas.io/graph/2d-ftu-illustrations',\n",
       " 'https://purl.humanatlas.io/ds-graph/static',\n",
       " 'https://purl.humanatlas.io/ds-graph/hra-pop-full',\n",
       " 'https://purl.humanatlas.io/graph/ds-graphs-enrichments',\n",
       " 'https://purl.humanatlas.io/collection/ds-graphs',\n",
       " 'https://hubmapconsortium.github.io/hra-ui/apps/ftu-ui/assets/TEMP/2d-ftu-illustrations.jsonld']"
      ]
     },
     "execution_count": 6,
     "metadata": {},
     "output_type": "execute_result"
    }
   ],
   "source": [
    "results = get_digital_objects(ONTOLOGY_ID)\n",
    "graphs = [ row['g'] for row in results ]\n",
    "print(ONTOLOGY_ID, 'occurs in', len(graphs), 'digital objects')\n",
    "graphs"
   ]
  }
 ],
 "metadata": {
  "kernelspec": {
   "display_name": ".venv",
   "language": "python",
   "name": "python3"
  },
  "language_info": {
   "codemirror_mode": {
    "name": "ipython",
    "version": 3
   },
   "file_extension": ".py",
   "mimetype": "text/x-python",
   "name": "python",
   "nbconvert_exporter": "python",
   "pygments_lexer": "ipython3",
   "version": "3.10.12"
  }
 },
 "nbformat": 4,
 "nbformat_minor": 2
}
